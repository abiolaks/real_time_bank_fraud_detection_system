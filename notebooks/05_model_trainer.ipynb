{
 "cells": [
  {
   "cell_type": "code",
   "execution_count": 1,
   "id": "24f39b90",
   "metadata": {},
   "outputs": [],
   "source": [
    "# Model training - base model\n",
    "# tracking with mlflow\n",
    "# Import the specific regression models from scikit-learn\n",
    "from sklearn.linear_model import LinearRegression, Ridge, Lasso, ElasticNet\n",
    "import os\n",
    "from mlflow.models import infer_signature\n",
    "import pandas as pd\n",
    "#from urlib.parse import urlparse\n",
    "import mlflow\n",
    "#from sklearn.compose import TransformedTargetRegressor\n",
    "from sklearn.ensemble import RandomForestRegressor\n",
    "from sklearn.metrics import mean_squared_error, mean_absolute_error, r2_score\n",
    "from dotenv import load_dotenv\n",
    "from xgboost import XGBRegressor\n",
    "from lightgbm import LGBMRegressor\n",
    "from sklearn.neighbors import KNeighborsRegressor\n",
    "from sklearn.svm import SVR\n",
    "from sklearn.tree import DecisionTreeRegressor\n",
    "from sklearn.pipeline import make_pipeline\n",
    "from sklearn.impute import SimpleImputer\n",
    "from sklearn.preprocessing import StandardScaler, FunctionTransformer\n",
    "from sklearn.compose import make_column_selector, make_column_transformer\n",
    "import numpy as np\n",
    "import mlflow.sklearn\n"
   ]
  },
  {
   "cell_type": "code",
   "execution_count": null,
   "id": "cb9abf5a",
   "metadata": {},
   "outputs": [],
   "source": [
    "load_dotenv()"
   ]
  },
  {
   "cell_type": "code",
   "execution_count": null,
   "id": "af8b1636",
   "metadata": {},
   "outputs": [],
   "source": [
    "os.environ['MLFLOW_TRACKING_URI']= os.getenv(\"MLFLOW_TRACKING_URI\")\n",
    "os.environ['MLFLOW_TRACKING_USERNAME']= os.getenv(\"MLFLOW_TRACKING_USERNAME\")\n",
    "os.environ[\"MLFLOW_TRACKING_PASSWORD\"]= os.getenv(\"MLFLOW_TRACKING_PASSWORD\")"
   ]
  },
  {
   "cell_type": "code",
   "execution_count": 3,
   "id": "72cb0b4f",
   "metadata": {},
   "outputs": [
    {
     "data": {
      "application/vnd.microsoft.datawrangler.viewer.v0+json": {
       "columns": [
        {
         "name": "index",
         "rawType": "int64",
         "type": "integer"
        },
        {
         "name": "transaction_id",
         "rawType": "int64",
         "type": "integer"
        },
        {
         "name": "customer_id",
         "rawType": "int64",
         "type": "integer"
        },
        {
         "name": "timestamp",
         "rawType": "object",
         "type": "string"
        },
        {
         "name": "amount",
         "rawType": "float64",
         "type": "float"
        },
        {
         "name": "merchant_category",
         "rawType": "int64",
         "type": "integer"
        },
        {
         "name": "merchant_id",
         "rawType": "int64",
         "type": "integer"
        },
        {
         "name": "device_id",
         "rawType": "int64",
         "type": "integer"
        },
        {
         "name": "location",
         "rawType": "int64",
         "type": "integer"
        },
        {
         "name": "is_fraud",
         "rawType": "int64",
         "type": "integer"
        },
        {
         "name": "hour_of_day",
         "rawType": "int64",
         "type": "integer"
        },
        {
         "name": "day_of_week",
         "rawType": "int64",
         "type": "integer"
        },
        {
         "name": "is_night",
         "rawType": "int64",
         "type": "integer"
        },
        {
         "name": "is_weekend",
         "rawType": "int64",
         "type": "integer"
        },
        {
         "name": "amount_scaled",
         "rawType": "float64",
         "type": "float"
        }
       ],
       "ref": "17a2d710-8ab7-4dab-b2c6-6055aa244072",
       "rows": [
        [
         "0",
         "159943",
         "4575",
         "2023-01-01 00:10:00",
         "35747.94",
         "7",
         "7906",
         "5",
         "2",
         "0",
         "0",
         "6",
         "1",
         "1",
         "-0.580246475286561"
        ],
        [
         "1",
         "887",
         "25",
         "2023-01-01 00:10:00",
         "41011.8",
         "7",
         "3162",
         "4",
         "0",
         "1",
         "0",
         "6",
         "1",
         "1",
         "-0.4572069708795758"
        ],
        [
         "2",
         "2381",
         "68",
         "2023-01-01 00:21:00",
         "97614.54",
         "2",
         "8815",
         "2",
         "5",
         "0",
         "0",
         "6",
         "1",
         "1",
         "0.8658474184236047"
        ],
        [
         "3",
         "121485",
         "3455",
         "2023-01-01 00:36:00",
         "58350.27",
         "5",
         "8060",
         "0",
         "3",
         "0",
         "0",
         "6",
         "1",
         "1",
         "-0.0519308510786348"
        ],
        [
         "4",
         "88703",
         "2519",
         "2023-01-01 00:51:00",
         "93539.79",
         "7",
         "5597",
         "0",
         "4",
         "0",
         "0",
         "6",
         "1",
         "1",
         "0.7706026321674422"
        ]
       ],
       "shape": {
        "columns": 14,
        "rows": 5
       }
      },
      "text/html": [
       "<div>\n",
       "<style scoped>\n",
       "    .dataframe tbody tr th:only-of-type {\n",
       "        vertical-align: middle;\n",
       "    }\n",
       "\n",
       "    .dataframe tbody tr th {\n",
       "        vertical-align: top;\n",
       "    }\n",
       "\n",
       "    .dataframe thead th {\n",
       "        text-align: right;\n",
       "    }\n",
       "</style>\n",
       "<table border=\"1\" class=\"dataframe\">\n",
       "  <thead>\n",
       "    <tr style=\"text-align: right;\">\n",
       "      <th></th>\n",
       "      <th>transaction_id</th>\n",
       "      <th>customer_id</th>\n",
       "      <th>timestamp</th>\n",
       "      <th>amount</th>\n",
       "      <th>merchant_category</th>\n",
       "      <th>merchant_id</th>\n",
       "      <th>device_id</th>\n",
       "      <th>location</th>\n",
       "      <th>is_fraud</th>\n",
       "      <th>hour_of_day</th>\n",
       "      <th>day_of_week</th>\n",
       "      <th>is_night</th>\n",
       "      <th>is_weekend</th>\n",
       "      <th>amount_scaled</th>\n",
       "    </tr>\n",
       "  </thead>\n",
       "  <tbody>\n",
       "    <tr>\n",
       "      <th>0</th>\n",
       "      <td>159943</td>\n",
       "      <td>4575</td>\n",
       "      <td>2023-01-01 00:10:00</td>\n",
       "      <td>35747.94</td>\n",
       "      <td>7</td>\n",
       "      <td>7906</td>\n",
       "      <td>5</td>\n",
       "      <td>2</td>\n",
       "      <td>0</td>\n",
       "      <td>0</td>\n",
       "      <td>6</td>\n",
       "      <td>1</td>\n",
       "      <td>1</td>\n",
       "      <td>-0.580246</td>\n",
       "    </tr>\n",
       "    <tr>\n",
       "      <th>1</th>\n",
       "      <td>887</td>\n",
       "      <td>25</td>\n",
       "      <td>2023-01-01 00:10:00</td>\n",
       "      <td>41011.80</td>\n",
       "      <td>7</td>\n",
       "      <td>3162</td>\n",
       "      <td>4</td>\n",
       "      <td>0</td>\n",
       "      <td>1</td>\n",
       "      <td>0</td>\n",
       "      <td>6</td>\n",
       "      <td>1</td>\n",
       "      <td>1</td>\n",
       "      <td>-0.457207</td>\n",
       "    </tr>\n",
       "    <tr>\n",
       "      <th>2</th>\n",
       "      <td>2381</td>\n",
       "      <td>68</td>\n",
       "      <td>2023-01-01 00:21:00</td>\n",
       "      <td>97614.54</td>\n",
       "      <td>2</td>\n",
       "      <td>8815</td>\n",
       "      <td>2</td>\n",
       "      <td>5</td>\n",
       "      <td>0</td>\n",
       "      <td>0</td>\n",
       "      <td>6</td>\n",
       "      <td>1</td>\n",
       "      <td>1</td>\n",
       "      <td>0.865847</td>\n",
       "    </tr>\n",
       "    <tr>\n",
       "      <th>3</th>\n",
       "      <td>121485</td>\n",
       "      <td>3455</td>\n",
       "      <td>2023-01-01 00:36:00</td>\n",
       "      <td>58350.27</td>\n",
       "      <td>5</td>\n",
       "      <td>8060</td>\n",
       "      <td>0</td>\n",
       "      <td>3</td>\n",
       "      <td>0</td>\n",
       "      <td>0</td>\n",
       "      <td>6</td>\n",
       "      <td>1</td>\n",
       "      <td>1</td>\n",
       "      <td>-0.051931</td>\n",
       "    </tr>\n",
       "    <tr>\n",
       "      <th>4</th>\n",
       "      <td>88703</td>\n",
       "      <td>2519</td>\n",
       "      <td>2023-01-01 00:51:00</td>\n",
       "      <td>93539.79</td>\n",
       "      <td>7</td>\n",
       "      <td>5597</td>\n",
       "      <td>0</td>\n",
       "      <td>4</td>\n",
       "      <td>0</td>\n",
       "      <td>0</td>\n",
       "      <td>6</td>\n",
       "      <td>1</td>\n",
       "      <td>1</td>\n",
       "      <td>0.770603</td>\n",
       "    </tr>\n",
       "  </tbody>\n",
       "</table>\n",
       "</div>"
      ],
      "text/plain": [
       "   transaction_id  customer_id            timestamp    amount  \\\n",
       "0          159943         4575  2023-01-01 00:10:00  35747.94   \n",
       "1             887           25  2023-01-01 00:10:00  41011.80   \n",
       "2            2381           68  2023-01-01 00:21:00  97614.54   \n",
       "3          121485         3455  2023-01-01 00:36:00  58350.27   \n",
       "4           88703         2519  2023-01-01 00:51:00  93539.79   \n",
       "\n",
       "   merchant_category  merchant_id  device_id  location  is_fraud  hour_of_day  \\\n",
       "0                  7         7906          5         2         0            0   \n",
       "1                  7         3162          4         0         1            0   \n",
       "2                  2         8815          2         5         0            0   \n",
       "3                  5         8060          0         3         0            0   \n",
       "4                  7         5597          0         4         0            0   \n",
       "\n",
       "   day_of_week  is_night  is_weekend  amount_scaled  \n",
       "0            6         1           1      -0.580246  \n",
       "1            6         1           1      -0.457207  \n",
       "2            6         1           1       0.865847  \n",
       "3            6         1           1      -0.051931  \n",
       "4            6         1           1       0.770603  "
      ]
     },
     "execution_count": 3,
     "metadata": {},
     "output_type": "execute_result"
    }
   ],
   "source": [
    "df = pd.read_csv(\"../data/processed/preprocessed_transactions.csv\")\n",
    "df.head()"
   ]
  },
  {
   "cell_type": "code",
   "execution_count": 6,
   "id": "cbd15d63",
   "metadata": {},
   "outputs": [
    {
     "data": {
      "application/vnd.microsoft.datawrangler.viewer.v0+json": {
       "columns": [
        {
         "name": "index",
         "rawType": "int64",
         "type": "integer"
        },
        {
         "name": "transaction_id",
         "rawType": "int64",
         "type": "integer"
        },
        {
         "name": "customer_id",
         "rawType": "int64",
         "type": "integer"
        },
        {
         "name": "timestamp",
         "rawType": "object",
         "type": "string"
        },
        {
         "name": "amount",
         "rawType": "float64",
         "type": "float"
        },
        {
         "name": "merchant_category",
         "rawType": "object",
         "type": "string"
        },
        {
         "name": "merchant_id",
         "rawType": "object",
         "type": "string"
        },
        {
         "name": "device_id",
         "rawType": "object",
         "type": "string"
        },
        {
         "name": "location",
         "rawType": "object",
         "type": "string"
        },
        {
         "name": "is_fraud",
         "rawType": "int64",
         "type": "integer"
        }
       ],
       "ref": "d60501f7-0f2b-4bb1-a9e5-ee54f45c1f9f",
       "rows": [
        [
         "0",
         "159943",
         "4575",
         "2023-01-01 00:10:00",
         "35747.94",
         "Restaurants",
         "M8906",
         "iPhone_12",
         "Ibadan",
         "0"
        ],
        [
         "1",
         "887",
         "25",
         "2023-01-01 00:10:00",
         "41011.8",
         "Restaurants",
         "M4162",
         "Windows_PC",
         "Abuja",
         "1"
        ],
        [
         "2",
         "2381",
         "68",
         "2023-01-01 00:21:00",
         "97614.54",
         "Fashion",
         "M9815",
         "Samsung_S21",
         "Lagos",
         "0"
        ],
        [
         "3",
         "121485",
         "3455",
         "2023-01-01 00:36:00",
         "58350.27",
         "Health",
         "M9060",
         "Infinix_Hot",
         "Kaduna",
         "0"
        ],
        [
         "4",
         "88703",
         "2519",
         "2023-01-01 00:51:00",
         "93539.79",
         "Restaurants",
         "M6597",
         "Infinix_Hot",
         "Kano",
         "0"
        ]
       ],
       "shape": {
        "columns": 9,
        "rows": 5
       }
      },
      "text/html": [
       "<div>\n",
       "<style scoped>\n",
       "    .dataframe tbody tr th:only-of-type {\n",
       "        vertical-align: middle;\n",
       "    }\n",
       "\n",
       "    .dataframe tbody tr th {\n",
       "        vertical-align: top;\n",
       "    }\n",
       "\n",
       "    .dataframe thead th {\n",
       "        text-align: right;\n",
       "    }\n",
       "</style>\n",
       "<table border=\"1\" class=\"dataframe\">\n",
       "  <thead>\n",
       "    <tr style=\"text-align: right;\">\n",
       "      <th></th>\n",
       "      <th>transaction_id</th>\n",
       "      <th>customer_id</th>\n",
       "      <th>timestamp</th>\n",
       "      <th>amount</th>\n",
       "      <th>merchant_category</th>\n",
       "      <th>merchant_id</th>\n",
       "      <th>device_id</th>\n",
       "      <th>location</th>\n",
       "      <th>is_fraud</th>\n",
       "    </tr>\n",
       "  </thead>\n",
       "  <tbody>\n",
       "    <tr>\n",
       "      <th>0</th>\n",
       "      <td>159943</td>\n",
       "      <td>4575</td>\n",
       "      <td>2023-01-01 00:10:00</td>\n",
       "      <td>35747.94</td>\n",
       "      <td>Restaurants</td>\n",
       "      <td>M8906</td>\n",
       "      <td>iPhone_12</td>\n",
       "      <td>Ibadan</td>\n",
       "      <td>0</td>\n",
       "    </tr>\n",
       "    <tr>\n",
       "      <th>1</th>\n",
       "      <td>887</td>\n",
       "      <td>25</td>\n",
       "      <td>2023-01-01 00:10:00</td>\n",
       "      <td>41011.80</td>\n",
       "      <td>Restaurants</td>\n",
       "      <td>M4162</td>\n",
       "      <td>Windows_PC</td>\n",
       "      <td>Abuja</td>\n",
       "      <td>1</td>\n",
       "    </tr>\n",
       "    <tr>\n",
       "      <th>2</th>\n",
       "      <td>2381</td>\n",
       "      <td>68</td>\n",
       "      <td>2023-01-01 00:21:00</td>\n",
       "      <td>97614.54</td>\n",
       "      <td>Fashion</td>\n",
       "      <td>M9815</td>\n",
       "      <td>Samsung_S21</td>\n",
       "      <td>Lagos</td>\n",
       "      <td>0</td>\n",
       "    </tr>\n",
       "    <tr>\n",
       "      <th>3</th>\n",
       "      <td>121485</td>\n",
       "      <td>3455</td>\n",
       "      <td>2023-01-01 00:36:00</td>\n",
       "      <td>58350.27</td>\n",
       "      <td>Health</td>\n",
       "      <td>M9060</td>\n",
       "      <td>Infinix_Hot</td>\n",
       "      <td>Kaduna</td>\n",
       "      <td>0</td>\n",
       "    </tr>\n",
       "    <tr>\n",
       "      <th>4</th>\n",
       "      <td>88703</td>\n",
       "      <td>2519</td>\n",
       "      <td>2023-01-01 00:51:00</td>\n",
       "      <td>93539.79</td>\n",
       "      <td>Restaurants</td>\n",
       "      <td>M6597</td>\n",
       "      <td>Infinix_Hot</td>\n",
       "      <td>Kano</td>\n",
       "      <td>0</td>\n",
       "    </tr>\n",
       "  </tbody>\n",
       "</table>\n",
       "</div>"
      ],
      "text/plain": [
       "   transaction_id  customer_id            timestamp    amount  \\\n",
       "0          159943         4575  2023-01-01 00:10:00  35747.94   \n",
       "1             887           25  2023-01-01 00:10:00  41011.80   \n",
       "2            2381           68  2023-01-01 00:21:00  97614.54   \n",
       "3          121485         3455  2023-01-01 00:36:00  58350.27   \n",
       "4           88703         2519  2023-01-01 00:51:00  93539.79   \n",
       "\n",
       "  merchant_category merchant_id    device_id location  is_fraud  \n",
       "0       Restaurants       M8906    iPhone_12   Ibadan         0  \n",
       "1       Restaurants       M4162   Windows_PC    Abuja         1  \n",
       "2           Fashion       M9815  Samsung_S21    Lagos         0  \n",
       "3            Health       M9060  Infinix_Hot   Kaduna         0  \n",
       "4       Restaurants       M6597  Infinix_Hot     Kano         0  "
      ]
     },
     "execution_count": 6,
     "metadata": {},
     "output_type": "execute_result"
    }
   ],
   "source": [
    "df_2 = pd.read_csv(\"../data/raw/bank_transactions.csv\")\n",
    "df_2.head()"
   ]
  },
  {
   "cell_type": "code",
   "execution_count": 7,
   "id": "6d8749a3",
   "metadata": {},
   "outputs": [
    {
     "data": {
      "text/plain": [
       "Index(['transaction_id', 'customer_id', 'timestamp', 'amount',\n",
       "       'merchant_category', 'merchant_id', 'device_id', 'location',\n",
       "       'is_fraud'],\n",
       "      dtype='object')"
      ]
     },
     "execution_count": 7,
     "metadata": {},
     "output_type": "execute_result"
    }
   ],
   "source": [
    "df_2.columns"
   ]
  },
  {
   "cell_type": "code",
   "execution_count": 4,
   "id": "4b360e26",
   "metadata": {},
   "outputs": [
    {
     "data": {
      "text/plain": [
       "Index(['transaction_id', 'customer_id', 'timestamp', 'amount',\n",
       "       'merchant_category', 'merchant_id', 'device_id', 'location', 'is_fraud',\n",
       "       'hour_of_day', 'day_of_week', 'is_night', 'is_weekend',\n",
       "       'amount_scaled'],\n",
       "      dtype='object')"
      ]
     },
     "execution_count": 4,
     "metadata": {},
     "output_type": "execute_result"
    }
   ],
   "source": [
    "df.columns"
   ]
  },
  {
   "cell_type": "code",
   "execution_count": 5,
   "id": "8ff1f9bd",
   "metadata": {},
   "outputs": [
    {
     "data": {
      "application/vnd.microsoft.datawrangler.viewer.v0+json": {
       "columns": [
        {
         "name": "index",
         "rawType": "object",
         "type": "string"
        },
        {
         "name": "0",
         "rawType": "object",
         "type": "unknown"
        }
       ],
       "ref": "ebde251f-8479-41d9-a6cd-182a622e5770",
       "rows": [
        [
         "transaction_id",
         "int64"
        ],
        [
         "customer_id",
         "int64"
        ],
        [
         "timestamp",
         "object"
        ],
        [
         "amount",
         "float64"
        ],
        [
         "merchant_category",
         "int64"
        ],
        [
         "merchant_id",
         "int64"
        ],
        [
         "device_id",
         "int64"
        ],
        [
         "location",
         "int64"
        ],
        [
         "is_fraud",
         "int64"
        ],
        [
         "hour_of_day",
         "int64"
        ],
        [
         "day_of_week",
         "int64"
        ],
        [
         "is_night",
         "int64"
        ],
        [
         "is_weekend",
         "int64"
        ],
        [
         "amount_scaled",
         "float64"
        ]
       ],
       "shape": {
        "columns": 1,
        "rows": 14
       }
      },
      "text/plain": [
       "transaction_id         int64\n",
       "customer_id            int64\n",
       "timestamp             object\n",
       "amount               float64\n",
       "merchant_category      int64\n",
       "merchant_id            int64\n",
       "device_id              int64\n",
       "location               int64\n",
       "is_fraud               int64\n",
       "hour_of_day            int64\n",
       "day_of_week            int64\n",
       "is_night               int64\n",
       "is_weekend             int64\n",
       "amount_scaled        float64\n",
       "dtype: object"
      ]
     },
     "execution_count": 5,
     "metadata": {},
     "output_type": "execute_result"
    }
   ],
   "source": [
    "df.dtypes"
   ]
  },
  {
   "cell_type": "code",
   "execution_count": null,
   "id": "db931a53",
   "metadata": {},
   "outputs": [],
   "source": [
    "# Define features\n",
    "numeric_features = [\n",
    "    'amount', 'amount_scaled', 'customer_avg_amount',\n",
    "    'customer_std_amount', 'transaction_frequency',\n",
    "    'distance_from_home', 'transaction_hour'\n",
    "]\n",
    "\n",
    "categorical_features = [\n",
    "    'device_type', 'location', 'merchant_category', 'channel'\n",
    "]"
   ]
  },
  {
   "cell_type": "code",
   "execution_count": null,
   "id": "9c5b3bec",
   "metadata": {},
   "outputs": [],
   "source": [
    "# Preprocessing pipeline \n",
    "\n",
    "# defining numerical and categorical columns\n",
    "\n",
    "# preprocessing pipeline the numerical features that is all the features in the dataset\n",
    "# defining pipeline\n",
    "num_pipeline = make_pipeline(SimpleImputer(strategy=\"median\"),\n",
    "                                     StandardScaler())\n",
    "# pipeline for  the log transformation to handle skew features\n",
    "log_pipeline = make_pipeline(\n",
    "    SimpleImputer(strategy=\"median\"),\n",
    "    FunctionTransformer(np.log, feature_names_out=\"one-to-one\"),\n",
    "    StandardScaler())\n",
    "\n",
    "\n",
    "\n",
    "# building the preprocessing pipeline\n",
    "preprocessing = make_column_transformer(\n",
    "    (num_pipeline, make_column_selector(dtype_include=np.number)),\n",
    "    (log_pipeline, make_column_selector(dtype_include=np.number)),\n",
    ")"
   ]
  },
  {
   "cell_type": "code",
   "execution_count": null,
   "id": "6c89175f",
   "metadata": {},
   "outputs": [],
   "source": []
  },
  {
   "cell_type": "code",
   "execution_count": null,
   "id": "d286228e",
   "metadata": {},
   "outputs": [],
   "source": []
  },
  {
   "cell_type": "code",
   "execution_count": null,
   "id": "ca4a44bb",
   "metadata": {},
   "outputs": [],
   "source": []
  }
 ],
 "metadata": {
  "kernelspec": {
   "display_name": "mlops",
   "language": "python",
   "name": "python3"
  },
  "language_info": {
   "codemirror_mode": {
    "name": "ipython",
    "version": 3
   },
   "file_extension": ".py",
   "mimetype": "text/x-python",
   "name": "python",
   "nbconvert_exporter": "python",
   "pygments_lexer": "ipython3",
   "version": "3.10.16"
  }
 },
 "nbformat": 4,
 "nbformat_minor": 5
}
