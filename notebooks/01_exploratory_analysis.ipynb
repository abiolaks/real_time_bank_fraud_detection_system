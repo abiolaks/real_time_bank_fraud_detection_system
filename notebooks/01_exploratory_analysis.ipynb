{
 "cells": [
  {
   "cell_type": "code",
   "execution_count": 1,
   "id": "e4278c36",
   "metadata": {},
   "outputs": [],
   "source": [
    "# load libraries\n",
    "import pandas as pd\n",
    "import numpy as np\n",
    "import matplotlib.pyplot as plt\n",
    "import os\n",
    "\n",
    "plt.rcParams.update({\"figure.figsize\": (10, 6), \"font.size\": 12})"
   ]
  },
  {
   "cell_type": "code",
   "execution_count": 4,
   "id": "34e0a5e3",
   "metadata": {},
   "outputs": [
    {
     "name": "stdout",
     "output_type": "stream",
     "text": [
      "Rows, cols: (174780, 9)\n",
      "transaction_id                int64\n",
      "customer_id                   int64\n",
      "timestamp            datetime64[ns]\n",
      "amount                      float64\n",
      "merchant_category            object\n",
      "merchant_id                  object\n",
      "device_id                    object\n",
      "location                     object\n",
      "is_fraud                      int64\n",
      "dtype: object\n"
     ]
    }
   ],
   "source": [
    "\n",
    "\n",
    "DATA_PATH = \"../data/raw/bank_transactions.csv\"  # ensure this is the final dataset file\n",
    "out_dir = \"eda_outputs\"\n",
    "os.makedirs(out_dir, exist_ok=True)\n",
    "\n",
    "df = pd.read_csv(DATA_PATH, parse_dates=[\"timestamp\"])\n",
    "print(\"Rows, cols:\", df.shape)\n",
    "print(df.dtypes)\n"
   ]
  },
  {
   "cell_type": "markdown",
   "id": "a44379d1",
   "metadata": {},
   "source": [
    "Quick peek and Basic Stats"
   ]
  },
  {
   "cell_type": "code",
   "execution_count": 13,
   "id": "a576e9b7",
   "metadata": {},
   "outputs": [
    {
     "data": {
      "application/vnd.microsoft.datawrangler.viewer.v0+json": {
       "columns": [
        {
         "name": "index",
         "rawType": "int64",
         "type": "integer"
        },
        {
         "name": "transaction_id",
         "rawType": "int64",
         "type": "integer"
        },
        {
         "name": "customer_id",
         "rawType": "int64",
         "type": "integer"
        },
        {
         "name": "timestamp",
         "rawType": "datetime64[ns]",
         "type": "datetime"
        },
        {
         "name": "amount",
         "rawType": "float64",
         "type": "float"
        },
        {
         "name": "merchant_category",
         "rawType": "object",
         "type": "string"
        },
        {
         "name": "merchant_id",
         "rawType": "object",
         "type": "string"
        },
        {
         "name": "device_id",
         "rawType": "object",
         "type": "string"
        },
        {
         "name": "location",
         "rawType": "object",
         "type": "string"
        },
        {
         "name": "is_fraud",
         "rawType": "int64",
         "type": "integer"
        }
       ],
       "ref": "6a4268d2-ea6e-432f-bfb5-ff3a98ec450e",
       "rows": [
        [
         "0",
         "159943",
         "4575",
         "2023-01-01 00:10:00",
         "35747.94",
         "Restaurants",
         "M8906",
         "iPhone_12",
         "Ibadan",
         "0"
        ],
        [
         "1",
         "887",
         "25",
         "2023-01-01 00:10:00",
         "41011.8",
         "Restaurants",
         "M4162",
         "Windows_PC",
         "Abuja",
         "1"
        ],
        [
         "2",
         "2381",
         "68",
         "2023-01-01 00:21:00",
         "97614.54",
         "Fashion",
         "M9815",
         "Samsung_S21",
         "Lagos",
         "0"
        ],
        [
         "3",
         "121485",
         "3455",
         "2023-01-01 00:36:00",
         "58350.27",
         "Health",
         "M9060",
         "Infinix_Hot",
         "Kaduna",
         "0"
        ],
        [
         "4",
         "88703",
         "2519",
         "2023-01-01 00:51:00",
         "93539.79",
         "Restaurants",
         "M6597",
         "Infinix_Hot",
         "Kano",
         "0"
        ]
       ],
       "shape": {
        "columns": 9,
        "rows": 5
       }
      },
      "text/html": [
       "<div>\n",
       "<style scoped>\n",
       "    .dataframe tbody tr th:only-of-type {\n",
       "        vertical-align: middle;\n",
       "    }\n",
       "\n",
       "    .dataframe tbody tr th {\n",
       "        vertical-align: top;\n",
       "    }\n",
       "\n",
       "    .dataframe thead th {\n",
       "        text-align: right;\n",
       "    }\n",
       "</style>\n",
       "<table border=\"1\" class=\"dataframe\">\n",
       "  <thead>\n",
       "    <tr style=\"text-align: right;\">\n",
       "      <th></th>\n",
       "      <th>transaction_id</th>\n",
       "      <th>customer_id</th>\n",
       "      <th>timestamp</th>\n",
       "      <th>amount</th>\n",
       "      <th>merchant_category</th>\n",
       "      <th>merchant_id</th>\n",
       "      <th>device_id</th>\n",
       "      <th>location</th>\n",
       "      <th>is_fraud</th>\n",
       "    </tr>\n",
       "  </thead>\n",
       "  <tbody>\n",
       "    <tr>\n",
       "      <th>0</th>\n",
       "      <td>159943</td>\n",
       "      <td>4575</td>\n",
       "      <td>2023-01-01 00:10:00</td>\n",
       "      <td>35747.94</td>\n",
       "      <td>Restaurants</td>\n",
       "      <td>M8906</td>\n",
       "      <td>iPhone_12</td>\n",
       "      <td>Ibadan</td>\n",
       "      <td>0</td>\n",
       "    </tr>\n",
       "    <tr>\n",
       "      <th>1</th>\n",
       "      <td>887</td>\n",
       "      <td>25</td>\n",
       "      <td>2023-01-01 00:10:00</td>\n",
       "      <td>41011.80</td>\n",
       "      <td>Restaurants</td>\n",
       "      <td>M4162</td>\n",
       "      <td>Windows_PC</td>\n",
       "      <td>Abuja</td>\n",
       "      <td>1</td>\n",
       "    </tr>\n",
       "    <tr>\n",
       "      <th>2</th>\n",
       "      <td>2381</td>\n",
       "      <td>68</td>\n",
       "      <td>2023-01-01 00:21:00</td>\n",
       "      <td>97614.54</td>\n",
       "      <td>Fashion</td>\n",
       "      <td>M9815</td>\n",
       "      <td>Samsung_S21</td>\n",
       "      <td>Lagos</td>\n",
       "      <td>0</td>\n",
       "    </tr>\n",
       "    <tr>\n",
       "      <th>3</th>\n",
       "      <td>121485</td>\n",
       "      <td>3455</td>\n",
       "      <td>2023-01-01 00:36:00</td>\n",
       "      <td>58350.27</td>\n",
       "      <td>Health</td>\n",
       "      <td>M9060</td>\n",
       "      <td>Infinix_Hot</td>\n",
       "      <td>Kaduna</td>\n",
       "      <td>0</td>\n",
       "    </tr>\n",
       "    <tr>\n",
       "      <th>4</th>\n",
       "      <td>88703</td>\n",
       "      <td>2519</td>\n",
       "      <td>2023-01-01 00:51:00</td>\n",
       "      <td>93539.79</td>\n",
       "      <td>Restaurants</td>\n",
       "      <td>M6597</td>\n",
       "      <td>Infinix_Hot</td>\n",
       "      <td>Kano</td>\n",
       "      <td>0</td>\n",
       "    </tr>\n",
       "  </tbody>\n",
       "</table>\n",
       "</div>"
      ],
      "text/plain": [
       "   transaction_id  customer_id           timestamp    amount  \\\n",
       "0          159943         4575 2023-01-01 00:10:00  35747.94   \n",
       "1             887           25 2023-01-01 00:10:00  41011.80   \n",
       "2            2381           68 2023-01-01 00:21:00  97614.54   \n",
       "3          121485         3455 2023-01-01 00:36:00  58350.27   \n",
       "4           88703         2519 2023-01-01 00:51:00  93539.79   \n",
       "\n",
       "  merchant_category merchant_id    device_id location  is_fraud  \n",
       "0       Restaurants       M8906    iPhone_12   Ibadan         0  \n",
       "1       Restaurants       M4162   Windows_PC    Abuja         1  \n",
       "2           Fashion       M9815  Samsung_S21    Lagos         0  \n",
       "3            Health       M9060  Infinix_Hot   Kaduna         0  \n",
       "4       Restaurants       M6597  Infinix_Hot     Kano         0  "
      ]
     },
     "execution_count": 13,
     "metadata": {},
     "output_type": "execute_result"
    }
   ],
   "source": [
    "# eda_step1_quick_peek.py\n",
    "# show top and tail, basic describe\n",
    "df.head(5)\n",
    "\n"
   ]
  },
  {
   "cell_type": "code",
   "execution_count": 7,
   "id": "7f71388c",
   "metadata": {},
   "outputs": [
    {
     "data": {
      "application/vnd.microsoft.datawrangler.viewer.v0+json": {
       "columns": [
        {
         "name": "index",
         "rawType": "int64",
         "type": "integer"
        },
        {
         "name": "transaction_id",
         "rawType": "int64",
         "type": "integer"
        },
        {
         "name": "customer_id",
         "rawType": "int64",
         "type": "integer"
        },
        {
         "name": "timestamp",
         "rawType": "datetime64[ns]",
         "type": "datetime"
        },
        {
         "name": "amount",
         "rawType": "float64",
         "type": "float"
        },
        {
         "name": "merchant_category",
         "rawType": "object",
         "type": "string"
        },
        {
         "name": "merchant_id",
         "rawType": "object",
         "type": "string"
        },
        {
         "name": "device_id",
         "rawType": "object",
         "type": "string"
        },
        {
         "name": "location",
         "rawType": "object",
         "type": "string"
        },
        {
         "name": "is_fraud",
         "rawType": "int64",
         "type": "integer"
        }
       ],
       "ref": "c3078948-dd52-4865-8445-21223624cd1b",
       "rows": [
        [
         "174775",
         "159822",
         "4571",
         "2024-12-31 23:16:00",
         "47682.08",
         "Groceries",
         "M2250",
         "Tecno_Spark",
         "Lagos",
         "0"
        ],
        [
         "174776",
         "109076",
         "3092",
         "2024-12-31 23:19:00",
         "65360.36",
         "Online Shopping",
         "M2174",
         "Tecno_Spark",
         "Abuja",
         "0"
        ],
        [
         "174777",
         "22559",
         "645",
         "2024-12-31 23:25:00",
         "9091.44",
         "Utilities",
         "M2566",
         "Infinix_Hot",
         "Kaduna",
         "0"
        ],
        [
         "174778",
         "108623",
         "3080",
         "2024-12-31 23:31:00",
         "23503.23",
         "Health",
         "M2568",
         "Samsung_S21",
         "Kano",
         "0"
        ],
        [
         "174779",
         "65981",
         "1882",
         "2024-12-31 23:59:00",
         "33220.29",
         "Health",
         "M1089",
         "iPhone_12",
         "Kaduna",
         "0"
        ]
       ],
       "shape": {
        "columns": 9,
        "rows": 5
       }
      },
      "text/html": [
       "<div>\n",
       "<style scoped>\n",
       "    .dataframe tbody tr th:only-of-type {\n",
       "        vertical-align: middle;\n",
       "    }\n",
       "\n",
       "    .dataframe tbody tr th {\n",
       "        vertical-align: top;\n",
       "    }\n",
       "\n",
       "    .dataframe thead th {\n",
       "        text-align: right;\n",
       "    }\n",
       "</style>\n",
       "<table border=\"1\" class=\"dataframe\">\n",
       "  <thead>\n",
       "    <tr style=\"text-align: right;\">\n",
       "      <th></th>\n",
       "      <th>transaction_id</th>\n",
       "      <th>customer_id</th>\n",
       "      <th>timestamp</th>\n",
       "      <th>amount</th>\n",
       "      <th>merchant_category</th>\n",
       "      <th>merchant_id</th>\n",
       "      <th>device_id</th>\n",
       "      <th>location</th>\n",
       "      <th>is_fraud</th>\n",
       "    </tr>\n",
       "  </thead>\n",
       "  <tbody>\n",
       "    <tr>\n",
       "      <th>174775</th>\n",
       "      <td>159822</td>\n",
       "      <td>4571</td>\n",
       "      <td>2024-12-31 23:16:00</td>\n",
       "      <td>47682.08</td>\n",
       "      <td>Groceries</td>\n",
       "      <td>M2250</td>\n",
       "      <td>Tecno_Spark</td>\n",
       "      <td>Lagos</td>\n",
       "      <td>0</td>\n",
       "    </tr>\n",
       "    <tr>\n",
       "      <th>174776</th>\n",
       "      <td>109076</td>\n",
       "      <td>3092</td>\n",
       "      <td>2024-12-31 23:19:00</td>\n",
       "      <td>65360.36</td>\n",
       "      <td>Online Shopping</td>\n",
       "      <td>M2174</td>\n",
       "      <td>Tecno_Spark</td>\n",
       "      <td>Abuja</td>\n",
       "      <td>0</td>\n",
       "    </tr>\n",
       "    <tr>\n",
       "      <th>174777</th>\n",
       "      <td>22559</td>\n",
       "      <td>645</td>\n",
       "      <td>2024-12-31 23:25:00</td>\n",
       "      <td>9091.44</td>\n",
       "      <td>Utilities</td>\n",
       "      <td>M2566</td>\n",
       "      <td>Infinix_Hot</td>\n",
       "      <td>Kaduna</td>\n",
       "      <td>0</td>\n",
       "    </tr>\n",
       "    <tr>\n",
       "      <th>174778</th>\n",
       "      <td>108623</td>\n",
       "      <td>3080</td>\n",
       "      <td>2024-12-31 23:31:00</td>\n",
       "      <td>23503.23</td>\n",
       "      <td>Health</td>\n",
       "      <td>M2568</td>\n",
       "      <td>Samsung_S21</td>\n",
       "      <td>Kano</td>\n",
       "      <td>0</td>\n",
       "    </tr>\n",
       "    <tr>\n",
       "      <th>174779</th>\n",
       "      <td>65981</td>\n",
       "      <td>1882</td>\n",
       "      <td>2024-12-31 23:59:00</td>\n",
       "      <td>33220.29</td>\n",
       "      <td>Health</td>\n",
       "      <td>M1089</td>\n",
       "      <td>iPhone_12</td>\n",
       "      <td>Kaduna</td>\n",
       "      <td>0</td>\n",
       "    </tr>\n",
       "  </tbody>\n",
       "</table>\n",
       "</div>"
      ],
      "text/plain": [
       "        transaction_id  customer_id           timestamp    amount  \\\n",
       "174775          159822         4571 2024-12-31 23:16:00  47682.08   \n",
       "174776          109076         3092 2024-12-31 23:19:00  65360.36   \n",
       "174777           22559          645 2024-12-31 23:25:00   9091.44   \n",
       "174778          108623         3080 2024-12-31 23:31:00  23503.23   \n",
       "174779           65981         1882 2024-12-31 23:59:00  33220.29   \n",
       "\n",
       "       merchant_category merchant_id    device_id location  is_fraud  \n",
       "174775         Groceries       M2250  Tecno_Spark    Lagos         0  \n",
       "174776   Online Shopping       M2174  Tecno_Spark    Abuja         0  \n",
       "174777         Utilities       M2566  Infinix_Hot   Kaduna         0  \n",
       "174778            Health       M2568  Samsung_S21     Kano         0  \n",
       "174779            Health       M1089    iPhone_12   Kaduna         0  "
      ]
     },
     "execution_count": 7,
     "metadata": {},
     "output_type": "execute_result"
    }
   ],
   "source": [
    "df.tail(5)"
   ]
  },
  {
   "cell_type": "code",
   "execution_count": 10,
   "id": "854c6050",
   "metadata": {},
   "outputs": [
    {
     "data": {
      "application/vnd.microsoft.datawrangler.viewer.v0+json": {
       "columns": [
        {
         "name": "index",
         "rawType": "object",
         "type": "string"
        },
        {
         "name": "count",
         "rawType": "float64",
         "type": "float"
        },
        {
         "name": "mean",
         "rawType": "float64",
         "type": "float"
        },
        {
         "name": "std",
         "rawType": "float64",
         "type": "float"
        },
        {
         "name": "min",
         "rawType": "float64",
         "type": "float"
        },
        {
         "name": "25%",
         "rawType": "float64",
         "type": "float"
        },
        {
         "name": "50%",
         "rawType": "float64",
         "type": "float"
        },
        {
         "name": "75%",
         "rawType": "float64",
         "type": "float"
        },
        {
         "name": "max",
         "rawType": "float64",
         "type": "float"
        }
       ],
       "ref": "90c69eb5-91ba-43ed-aa15-c9697924f2dc",
       "rows": [
        [
         "transaction_id",
         "174780.0",
         "87390.5",
         "50454.784361842234",
         "1.0",
         "43695.75",
         "87390.5",
         "131085.25",
         "174780.0"
        ],
        [
         "customer_id",
         "174780.0",
         "2491.272285158485",
         "1439.9249676296936",
         "1.0",
         "1249.0",
         "2481.0",
         "3736.0",
         "5000.0"
        ],
        [
         "amount",
         "174780.0",
         "60571.96888505552",
         "42781.99171855977",
         "1.6",
         "28815.7875",
         "51287.024999999994",
         "83038.71250000001",
         "410317.04"
        ],
        [
         "is_fraud",
         "174780.0",
         "0.05776976770797574",
         "0.23330823620834842",
         "0.0",
         "0.0",
         "0.0",
         "0.0",
         "1.0"
        ]
       ],
       "shape": {
        "columns": 8,
        "rows": 4
       }
      },
      "text/html": [
       "<div>\n",
       "<style scoped>\n",
       "    .dataframe tbody tr th:only-of-type {\n",
       "        vertical-align: middle;\n",
       "    }\n",
       "\n",
       "    .dataframe tbody tr th {\n",
       "        vertical-align: top;\n",
       "    }\n",
       "\n",
       "    .dataframe thead th {\n",
       "        text-align: right;\n",
       "    }\n",
       "</style>\n",
       "<table border=\"1\" class=\"dataframe\">\n",
       "  <thead>\n",
       "    <tr style=\"text-align: right;\">\n",
       "      <th></th>\n",
       "      <th>count</th>\n",
       "      <th>mean</th>\n",
       "      <th>std</th>\n",
       "      <th>min</th>\n",
       "      <th>25%</th>\n",
       "      <th>50%</th>\n",
       "      <th>75%</th>\n",
       "      <th>max</th>\n",
       "    </tr>\n",
       "  </thead>\n",
       "  <tbody>\n",
       "    <tr>\n",
       "      <th>transaction_id</th>\n",
       "      <td>174780.0</td>\n",
       "      <td>87390.500000</td>\n",
       "      <td>50454.784362</td>\n",
       "      <td>1.0</td>\n",
       "      <td>43695.7500</td>\n",
       "      <td>87390.500</td>\n",
       "      <td>131085.2500</td>\n",
       "      <td>174780.00</td>\n",
       "    </tr>\n",
       "    <tr>\n",
       "      <th>customer_id</th>\n",
       "      <td>174780.0</td>\n",
       "      <td>2491.272285</td>\n",
       "      <td>1439.924968</td>\n",
       "      <td>1.0</td>\n",
       "      <td>1249.0000</td>\n",
       "      <td>2481.000</td>\n",
       "      <td>3736.0000</td>\n",
       "      <td>5000.00</td>\n",
       "    </tr>\n",
       "    <tr>\n",
       "      <th>amount</th>\n",
       "      <td>174780.0</td>\n",
       "      <td>60571.968885</td>\n",
       "      <td>42781.991719</td>\n",
       "      <td>1.6</td>\n",
       "      <td>28815.7875</td>\n",
       "      <td>51287.025</td>\n",
       "      <td>83038.7125</td>\n",
       "      <td>410317.04</td>\n",
       "    </tr>\n",
       "    <tr>\n",
       "      <th>is_fraud</th>\n",
       "      <td>174780.0</td>\n",
       "      <td>0.057770</td>\n",
       "      <td>0.233308</td>\n",
       "      <td>0.0</td>\n",
       "      <td>0.0000</td>\n",
       "      <td>0.000</td>\n",
       "      <td>0.0000</td>\n",
       "      <td>1.00</td>\n",
       "    </tr>\n",
       "  </tbody>\n",
       "</table>\n",
       "</div>"
      ],
      "text/plain": [
       "                   count          mean           std  min         25%  \\\n",
       "transaction_id  174780.0  87390.500000  50454.784362  1.0  43695.7500   \n",
       "customer_id     174780.0   2491.272285   1439.924968  1.0   1249.0000   \n",
       "amount          174780.0  60571.968885  42781.991719  1.6  28815.7875   \n",
       "is_fraud        174780.0      0.057770      0.233308  0.0      0.0000   \n",
       "\n",
       "                      50%          75%        max  \n",
       "transaction_id  87390.500  131085.2500  174780.00  \n",
       "customer_id      2481.000    3736.0000    5000.00  \n",
       "amount          51287.025   83038.7125  410317.04  \n",
       "is_fraud            0.000       0.0000       1.00  "
      ]
     },
     "execution_count": 10,
     "metadata": {},
     "output_type": "execute_result"
    }
   ],
   "source": [
    "# Basic numeric summary\n",
    "df.describe(include=[np.number]).T\n",
    "\n",
    "\n"
   ]
  },
  {
   "cell_type": "code",
   "execution_count": 11,
   "id": "7f5d26da",
   "metadata": {},
   "outputs": [
    {
     "data": {
      "application/vnd.microsoft.datawrangler.viewer.v0+json": {
       "columns": [
        {
         "name": "index",
         "rawType": "object",
         "type": "string"
        },
        {
         "name": "0",
         "rawType": "int64",
         "type": "integer"
        }
       ],
       "ref": "890857ea-b73d-4c73-91fc-0b3435513497",
       "rows": [
        [
         "merchant_category",
         "10"
        ],
        [
         "merchant_id",
         "9000"
        ],
        [
         "device_id",
         "6"
        ],
        [
         "location",
         "7"
        ]
       ],
       "shape": {
        "columns": 1,
        "rows": 4
       }
      },
      "text/plain": [
       "merchant_category      10\n",
       "merchant_id          9000\n",
       "device_id               6\n",
       "location                7\n",
       "dtype: int64"
      ]
     },
     "execution_count": 11,
     "metadata": {},
     "output_type": "execute_result"
    }
   ],
   "source": [
    "# Categorical summary\n",
    "df[[\"merchant_category\",\"merchant_id\",\"device_id\",\"location\"]].nunique()\n"
   ]
  },
  {
   "cell_type": "code",
   "execution_count": 12,
   "id": "1b0616cb",
   "metadata": {},
   "outputs": [
    {
     "data": {
      "application/vnd.microsoft.datawrangler.viewer.v0+json": {
       "columns": [
        {
         "name": "merchant_category",
         "rawType": "object",
         "type": "string"
        },
        {
         "name": "count",
         "rawType": "int64",
         "type": "integer"
        }
       ],
       "ref": "b09aa83e-3c5a-4710-b908-76389b421a4c",
       "rows": [
        [
         "Health",
         "18414"
        ],
        [
         "Travel",
         "17760"
        ],
        [
         "Online Shopping",
         "17661"
        ],
        [
         "Fashion",
         "17629"
        ],
        [
         "Electronics",
         "17573"
        ],
        [
         "Fuel",
         "17412"
        ],
        [
         "Entertainment",
         "17217"
        ],
        [
         "Restaurants",
         "17173"
        ],
        [
         "Utilities",
         "17096"
        ],
        [
         "Groceries",
         "16845"
        ]
       ],
       "shape": {
        "columns": 1,
        "rows": 10
       }
      },
      "text/plain": [
       "merchant_category\n",
       "Health             18414\n",
       "Travel             17760\n",
       "Online Shopping    17661\n",
       "Fashion            17629\n",
       "Electronics        17573\n",
       "Fuel               17412\n",
       "Entertainment      17217\n",
       "Restaurants        17173\n",
       "Utilities          17096\n",
       "Groceries          16845\n",
       "Name: count, dtype: int64"
      ]
     },
     "execution_count": 12,
     "metadata": {},
     "output_type": "execute_result"
    }
   ],
   "source": [
    "df[\"merchant_category\"].value_counts().head(10)"
   ]
  },
  {
   "cell_type": "markdown",
   "id": "05ce33ab",
   "metadata": {},
   "source": [
    "## Missing values "
   ]
  },
  {
   "cell_type": "code",
   "execution_count": 15,
   "id": "d9bd9862",
   "metadata": {},
   "outputs": [
    {
     "data": {
      "application/vnd.microsoft.datawrangler.viewer.v0+json": {
       "columns": [
        {
         "name": "index",
         "rawType": "object",
         "type": "string"
        },
        {
         "name": "0",
         "rawType": "int64",
         "type": "integer"
        }
       ],
       "ref": "43bdfb8c-8df3-4ea5-90df-fd6b5c52b8ff",
       "rows": [
        [
         "transaction_id",
         "0"
        ],
        [
         "customer_id",
         "0"
        ],
        [
         "timestamp",
         "0"
        ],
        [
         "amount",
         "0"
        ],
        [
         "merchant_category",
         "0"
        ],
        [
         "merchant_id",
         "0"
        ],
        [
         "device_id",
         "0"
        ],
        [
         "location",
         "0"
        ],
        [
         "is_fraud",
         "0"
        ]
       ],
       "shape": {
        "columns": 1,
        "rows": 9
       }
      },
      "text/plain": [
       "transaction_id       0\n",
       "customer_id          0\n",
       "timestamp            0\n",
       "amount               0\n",
       "merchant_category    0\n",
       "merchant_id          0\n",
       "device_id            0\n",
       "location             0\n",
       "is_fraud             0\n",
       "dtype: int64"
      ]
     },
     "execution_count": 15,
     "metadata": {},
     "output_type": "execute_result"
    }
   ],
   "source": [
    "df.isnull().sum()"
   ]
  },
  {
   "cell_type": "markdown",
   "id": "48266314",
   "metadata": {},
   "source": [
    "## Fraud Overall by Time"
   ]
  },
  {
   "cell_type": "code",
   "execution_count": 16,
   "id": "3bfa0944",
   "metadata": {},
   "outputs": [
    {
     "name": "stdout",
     "output_type": "stream",
     "text": [
      "Total txns: 174,780  Fraudulent: 10,097  Ratio: 5.7770%\n"
     ]
    }
   ],
   "source": [
    "# \n",
    "total = len(df)\n",
    "frauds = df[\"is_fraud\"].sum()\n",
    "print(f\"Total txns: {total:,}  Fraudulent: {frauds:,}  Ratio: {frauds/total:.4%}\")\n"
   ]
  },
  {
   "cell_type": "code",
   "execution_count": 17,
   "id": "76cbb624",
   "metadata": {},
   "outputs": [
    {
     "data": {
      "image/png": "[encoded data removed]",
      "text/plain": [
       "<Figure size 1000x600 with 1 Axes>"
      ]
     },
     "metadata": {},
     "output_type": "display_data"
    }
   ],
   "source": [
    "\n",
    "# Fraud ratio by month\n",
    "df[\"month\"] = df[\"timestamp\"].dt.to_period(\"M\")\n",
    "fraud_by_month = df.groupby(\"month\")[\"is_fraud\"].mean().rename(\"fraud_rate\")\n",
    "fraud_by_month.plot(kind=\"bar\")\n",
    "plt.ylabel(\"Fraud rate\")\n",
    "plt.title(\"Fraud rate by month\")\n",
    "plt.tight_layout()\n",
    "plt.savefig(os.path.join(out_dir, \"fraud_rate_by_month.png\"))\n",
    "plt.show()\n"
   ]
  },
  {
   "cell_type": "code",
   "execution_count": 18,
   "id": "18e5e9aa",
   "metadata": {},
   "outputs": [
    {
     "data": {
      "image/png": "[encoded data removed]",
      "text/plain": [
       "<Figure size 1000x600 with 1 Axes>"
      ]
     },
     "metadata": {},
     "output_type": "display_data"
    },
    {
     "data": {
      "image/png": "[encoded data removed]",
      "text/plain": [
       "<Figure size 1000x600 with 1 Axes>"
      ]
     },
     "metadata": {},
     "output_type": "display_data"
    },
    {
     "name": "stdout",
     "output_type": "stream",
     "text": [
      "           count          mean    median           std        max\n",
      "is_fraud                                                         \n",
      "0         164683  60566.215737  51312.76  42735.007903  410317.04\n",
      "1          10097  60665.803262  50915.69  43543.190231  361824.47\n"
     ]
    }
   ],
   "source": [
    "# amount_distribution\n",
    "df[\"amount_log\"] = np.log1p(df[\"amount\"])\n",
    "\n",
    "# overall\n",
    "plt.hist(df[\"amount_log\"], bins=60)\n",
    "plt.title(\"Transaction amount (log1p) - overall\")\n",
    "plt.xlabel(\"log1p(amount)\")\n",
    "plt.savefig(os.path.join(out_dir, \"amount_log_overall.png\"))\n",
    "plt.show()\n",
    "\n",
    "# by fraud label\n",
    "plt.hist(df[df[\"is_fraud\"]==0][\"amount_log\"], bins=60, alpha=0.6, label=\"legit\")\n",
    "plt.hist(df[df[\"is_fraud\"]==1][\"amount_log\"], bins=60, alpha=0.6, label=\"fraud\")\n",
    "plt.legend()\n",
    "plt.title(\"Amount distribution (log) - legit vs fraud\")\n",
    "plt.savefig(os.path.join(out_dir, \"amount_log_legit_vs_fraud.png\"))\n",
    "plt.show()\n",
    "\n",
    "# Summary stats by label\n",
    "print(df.groupby(\"is_fraud\")[\"amount\"].agg([\"count\",\"mean\",\"median\",\"std\",\"max\"]))\n"
   ]
  },
  {
   "cell_type": "markdown",
   "id": "844f4db9",
   "metadata": {},
   "source": [
    "## Time of the day and weekend patters"
   ]
  },
  {
   "cell_type": "code",
   "execution_count": 19,
   "id": "45e6f059",
   "metadata": {},
   "outputs": [
    {
     "data": {
      "image/png": "[encoded data removed]",
      "text/plain": [
       "<Figure size 1000x600 with 2 Axes>"
      ]
     },
     "metadata": {},
     "output_type": "display_data"
    }
   ],
   "source": [
    "# time_patterns\n",
    "df[\"hour\"] = df[\"timestamp\"].dt.hour\n",
    "df[\"weekday\"] = df[\"timestamp\"].dt.day_name()\n",
    "\n",
    "# Hourly volume & fraud rate\n",
    "hour_counts = df.groupby(\"hour\").size()\n",
    "hour_fraud_rate = df.groupby(\"hour\")[\"is_fraud\"].mean()\n",
    "fig, ax = plt.subplots()\n",
    "ax2 = ax.twinx()\n",
    "hour_counts.plot(ax=ax, kind=\"bar\", color=\"C0\", alpha=0.6)\n",
    "hour_fraud_rate.plot(ax=ax2, color=\"C1\", marker=\"o\")\n",
    "ax.set_ylabel(\"txn count\")\n",
    "ax2.set_ylabel(\"fraud rate\")\n",
    "plt.title(\"Transactions and fraud rate by hour\")\n",
    "plt.savefig(os.path.join(out_dir, \"txns_and_fraud_by_hour.png\"))\n",
    "plt.show()\n",
    "\n"
   ]
  },
  {
   "cell_type": "code",
   "execution_count": 20,
   "id": "7ee27864",
   "metadata": {},
   "outputs": [
    {
     "data": {
      "image/png": "[encoded data removed]",
      "text/plain": [
       "<Figure size 1000x600 with 1 Axes>"
      ]
     },
     "metadata": {},
     "output_type": "display_data"
    },
    {
     "name": "stdout",
     "output_type": "stream",
     "text": [
      "Fraud rate by weekday:\n",
      " weekday\n",
      "Monday       0.058819\n",
      "Tuesday      0.056089\n",
      "Wednesday    0.056305\n",
      "Thursday     0.059450\n",
      "Friday       0.059272\n",
      "Saturday     0.058670\n",
      "Sunday       0.055788\n",
      "Name: is_fraud, dtype: float64\n"
     ]
    }
   ],
   "source": [
    "\n",
    "# Weekday pattern\n",
    "weekday_order = [\"Monday\",\"Tuesday\",\"Wednesday\",\"Thursday\",\"Friday\",\"Saturday\",\"Sunday\"]\n",
    "wd_counts = df.groupby(\"weekday\").size().reindex(weekday_order)\n",
    "wd_fraud = df.groupby(\"weekday\")[\"is_fraud\"].mean().reindex(weekday_order)\n",
    "wd_counts.plot(kind=\"bar\", title=\"Transactions by weekday\")\n",
    "plt.savefig(os.path.join(out_dir, \"txns_by_weekday.png\"))\n",
    "plt.show()\n",
    "print(\"Fraud rate by weekday:\\n\", wd_fraud)"
   ]
  },
  {
   "cell_type": "markdown",
   "id": "0e4a9fb6",
   "metadata": {},
   "source": [
    "## Merchant device and Localtion Analysis"
   ]
  },
  {
   "cell_type": "code",
   "execution_count": 22,
   "id": "b78ee2cf",
   "metadata": {},
   "outputs": [
    {
     "name": "stdout",
     "output_type": "stream",
     "text": [
      "Top 20 merchants by txn count:\n",
      " merchant_id\n",
      "M2174    39\n",
      "M3643    38\n",
      "M2757    36\n",
      "M4414    36\n",
      "M7924    36\n",
      "Name: count, dtype: int64\n"
     ]
    }
   ],
   "source": [
    "# eda_step6_merchants_devices.py\n",
    "top_merchants = df[\"merchant_id\"].value_counts().head(5)\n",
    "print(\"Top 20 merchants by txn count:\\n\", top_merchants)"
   ]
  },
  {
   "cell_type": "code",
   "execution_count": 23,
   "id": "0c379a48",
   "metadata": {},
   "outputs": [
    {
     "name": "stdout",
     "output_type": "stream",
     "text": [
      "                       mean  count\n",
      "merchant_category                 \n",
      "Health             0.057348  18414\n",
      "Travel             0.056532  17760\n",
      "Online Shopping    0.057415  17661\n",
      "Fashion            0.055590  17629\n",
      "Electronics        0.060946  17573\n",
      "Fuel               0.057719  17412\n",
      "Entertainment      0.056746  17217\n",
      "Restaurants        0.057241  17173\n",
      "Utilities          0.059254  17096\n",
      "Groceries          0.059009  16845\n"
     ]
    }
   ],
   "source": [
    "# Fraud rate by top merchant categories\n",
    "cat = df.groupby(\"merchant_category\")[\"is_fraud\"].agg([\"mean\",\"count\"]).sort_values(\"count\", ascending=False)\n",
    "print(cat)"
   ]
  },
  {
   "cell_type": "code",
   "execution_count": 24,
   "id": "a9fcf3e3",
   "metadata": {},
   "outputs": [
    {
     "name": "stdout",
     "output_type": "stream",
     "text": [
      "Avg unique devices per customer: 5.9702\n"
     ]
    }
   ],
   "source": [
    "\n",
    "# Devices: how many unique devices per customer average\n",
    "dev_per_customer = df.groupby(\"customer_id\")[\"device_id\"].nunique()\n",
    "print(\"Avg unique devices per customer:\", dev_per_customer.mean())"
   ]
  },
  {
   "cell_type": "code",
   "execution_count": 25,
   "id": "90ae3b41",
   "metadata": {},
   "outputs": [
    {
     "name": "stdout",
     "output_type": "stream",
     "text": [
      "                 mean  count\n",
      "device_id                   \n",
      "Windows_PC   0.056926  29231\n",
      "Infinix_Hot  0.058364  29213\n",
      "MacBook_Pro  0.059075  29200\n",
      "iPhone_12    0.056796  29069\n",
      "Tecno_Spark  0.057633  29063\n",
      "Samsung_S21  0.057820  29004\n"
     ]
    },
    {
     "data": {
      "image/png": "[encoded data removed]",
      "text/plain": [
       "<Figure size 1000x600 with 1 Axes>"
      ]
     },
     "metadata": {},
     "output_type": "display_data"
    }
   ],
   "source": [
    "# Fraud rate by device (top 20 devices)\n",
    "device_stats = df.groupby(\"device_id\")[\"is_fraud\"].agg([\"mean\",\"count\"]).sort_values(\"count\", ascending=False).head(30)\n",
    "print(device_stats)\n",
    "device_stats[\"mean\"].plot(kind=\"bar\", title=\"Fraud rate by top devices\")\n",
    "plt.ylabel(\"fraud rate\")\n",
    "plt.savefig(os.path.join(out_dir, \"fraud_rate_by_top_devices.png\"))\n",
    "plt.show()\n"
   ]
  },
  {
   "cell_type": "markdown",
   "id": "1462ee85",
   "metadata": {},
   "source": [
    "## Per-customer activity: distributions, high-volume users, churn"
   ]
  },
  {
   "cell_type": "code",
   "execution_count": 26,
   "id": "ae750406",
   "metadata": {},
   "outputs": [
    {
     "name": "stdout",
     "output_type": "stream",
     "text": [
      "Per-customer txn count stats:\n",
      " count    5000.000000\n",
      "mean       34.956000\n",
      "std         8.978496\n",
      "min        20.000000\n",
      "25%        27.000000\n",
      "50%        35.000000\n",
      "75%        43.000000\n",
      "max        50.000000\n",
      "Name: txn_count, dtype: float64\n"
     ]
    }
   ],
   "source": [
    "# customer_activity.py\n",
    "cust_counts = df.groupby(\"customer_id\").size().rename(\"txn_count\")\n",
    "cust_stats = cust_counts.describe()\n",
    "print(\"Per-customer txn count stats:\\n\", cust_stats)"
   ]
  },
  {
   "cell_type": "code",
   "execution_count": 27,
   "id": "531dc977",
   "metadata": {},
   "outputs": [
    {
     "name": "stdout",
     "output_type": "stream",
     "text": [
      "Customers with most fraud events:\n",
      " customer_id\n",
      "1060    10\n",
      "2404     9\n",
      "2738     9\n",
      "1997     9\n",
      "2174     9\n",
      "4628     8\n",
      "3200     8\n",
      "4063     8\n",
      "2771     8\n",
      "1669     8\n",
      "3012     8\n",
      "2979     8\n",
      "4512     8\n",
      "2238     7\n",
      "2444     7\n",
      "2346     7\n",
      "2288     7\n",
      "4464     7\n",
      "1210     7\n",
      "4204     7\n",
      "Name: is_fraud, dtype: int64\n"
     ]
    }
   ],
   "source": [
    "\n",
    "\n",
    "# Customers with highest fraud counts\n",
    "cust_fraud_counts = df.groupby(\"customer_id\")[\"is_fraud\"].sum().sort_values(ascending=False).head(20)\n",
    "print(\"Customers with most fraud events:\\n\", cust_fraud_counts)"
   ]
  },
  {
   "cell_type": "code",
   "execution_count": 29,
   "id": "74e6c4d1",
   "metadata": {},
   "outputs": [
    {
     "data": {
      "application/vnd.microsoft.datawrangler.viewer.v0+json": {
       "columns": [
        {
         "name": "index",
         "rawType": "int64",
         "type": "integer"
        },
        {
         "name": "transaction_id",
         "rawType": "int64",
         "type": "integer"
        },
        {
         "name": "customer_id",
         "rawType": "int64",
         "type": "integer"
        },
        {
         "name": "timestamp",
         "rawType": "datetime64[ns]",
         "type": "datetime"
        },
        {
         "name": "amount",
         "rawType": "float64",
         "type": "float"
        },
        {
         "name": "merchant_category",
         "rawType": "object",
         "type": "string"
        },
        {
         "name": "merchant_id",
         "rawType": "object",
         "type": "string"
        },
        {
         "name": "device_id",
         "rawType": "object",
         "type": "string"
        },
        {
         "name": "location",
         "rawType": "object",
         "type": "string"
        },
        {
         "name": "is_fraud",
         "rawType": "int64",
         "type": "integer"
        },
        {
         "name": "month",
         "rawType": "period[M]",
         "type": "unknown"
        },
        {
         "name": "amount_log",
         "rawType": "float64",
         "type": "float"
        },
        {
         "name": "hour",
         "rawType": "int32",
         "type": "integer"
        },
        {
         "name": "weekday",
         "rawType": "object",
         "type": "string"
        }
       ],
       "ref": "6dfd7f23-4ba8-4cd7-b17e-60769964a324",
       "rows": [
        [
         "3069",
         "1869",
         "53",
         "2023-01-13 16:22:00",
         "68356.04",
         "Fuel",
         "M9506",
         "Samsung_S21",
         "Kaduna",
         "0",
         "2023-01",
         "11.132499836116507",
         "16",
         "Friday"
        ],
        [
         "3492",
         "1884",
         "53",
         "2023-01-15 09:58:00",
         "45003.07",
         "Groceries",
         "M1738",
         "Tecno_Spark",
         "Kaduna",
         "0",
         "2023-01",
         "10.714508209107048",
         "9",
         "Sunday"
        ],
        [
         "5601",
         "1901",
         "53",
         "2023-01-24 09:15:00",
         "23950.43",
         "Groceries",
         "M8195",
         "iPhone_12",
         "Kaduna",
         "0",
         "2023-01",
         "10.083783308781053",
         "9",
         "Tuesday"
        ],
        [
         "9836",
         "1903",
         "53",
         "2023-02-10 22:57:00",
         "41544.89",
         "Groceries",
         "M5055",
         "iPhone_12",
         "Kaduna",
         "0",
         "2023-02",
         "10.63455387842348",
         "22",
         "Friday"
        ],
        [
         "14230",
         "1877",
         "53",
         "2023-03-01 04:46:00",
         "92154.41",
         "Fuel",
         "M9063",
         "Tecno_Spark",
         "Kaduna",
         "0",
         "2023-03",
         "11.431231670001923",
         "4",
         "Wednesday"
        ],
        [
         "16262",
         "1860",
         "53",
         "2023-03-09 19:45:00",
         "116665.98",
         "Groceries",
         "M6609",
         "iPhone_12",
         "Kaduna",
         "0",
         "2023-03",
         "11.667078830508165",
         "19",
         "Thursday"
        ],
        [
         "17581",
         "1864",
         "53",
         "2023-03-15 04:37:00",
         "31331.88",
         "Groceries",
         "M6253",
         "iPhone_12",
         "Kaduna",
         "0",
         "2023-03",
         "10.35242330439426",
         "4",
         "Wednesday"
        ],
        [
         "19285",
         "1894",
         "53",
         "2023-03-22 09:55:00",
         "37714.31",
         "Electronics",
         "M9828",
         "iPhone_12",
         "Kaduna",
         "0",
         "2023-03",
         "10.537821391795248",
         "9",
         "Wednesday"
        ],
        [
         "24785",
         "1876",
         "53",
         "2023-04-14 21:07:00",
         "107309.93",
         "Groceries",
         "M3935",
         "Windows_PC",
         "Kaduna",
         "0",
         "2023-04",
         "11.58348578736391",
         "21",
         "Friday"
        ],
        [
         "27364",
         "1870",
         "53",
         "2023-04-25 13:52:00",
         "84727.87",
         "Online Shopping",
         "M4044",
         "Samsung_S21",
         "Kaduna",
         "0",
         "2023-04",
         "11.347211672622993",
         "13",
         "Tuesday"
        ]
       ],
       "shape": {
        "columns": 13,
        "rows": 10
       }
      },
      "text/html": [
       "<div>\n",
       "<style scoped>\n",
       "    .dataframe tbody tr th:only-of-type {\n",
       "        vertical-align: middle;\n",
       "    }\n",
       "\n",
       "    .dataframe tbody tr th {\n",
       "        vertical-align: top;\n",
       "    }\n",
       "\n",
       "    .dataframe thead th {\n",
       "        text-align: right;\n",
       "    }\n",
       "</style>\n",
       "<table border=\"1\" class=\"dataframe\">\n",
       "  <thead>\n",
       "    <tr style=\"text-align: right;\">\n",
       "      <th></th>\n",
       "      <th>transaction_id</th>\n",
       "      <th>customer_id</th>\n",
       "      <th>timestamp</th>\n",
       "      <th>amount</th>\n",
       "      <th>merchant_category</th>\n",
       "      <th>merchant_id</th>\n",
       "      <th>device_id</th>\n",
       "      <th>location</th>\n",
       "      <th>is_fraud</th>\n",
       "      <th>month</th>\n",
       "      <th>amount_log</th>\n",
       "      <th>hour</th>\n",
       "      <th>weekday</th>\n",
       "    </tr>\n",
       "  </thead>\n",
       "  <tbody>\n",
       "    <tr>\n",
       "      <th>3069</th>\n",
       "      <td>1869</td>\n",
       "      <td>53</td>\n",
       "      <td>2023-01-13 16:22:00</td>\n",
       "      <td>68356.04</td>\n",
       "      <td>Fuel</td>\n",
       "      <td>M9506</td>\n",
       "      <td>Samsung_S21</td>\n",
       "      <td>Kaduna</td>\n",
       "      <td>0</td>\n",
       "      <td>2023-01</td>\n",
       "      <td>11.132500</td>\n",
       "      <td>16</td>\n",
       "      <td>Friday</td>\n",
       "    </tr>\n",
       "    <tr>\n",
       "      <th>3492</th>\n",
       "      <td>1884</td>\n",
       "      <td>53</td>\n",
       "      <td>2023-01-15 09:58:00</td>\n",
       "      <td>45003.07</td>\n",
       "      <td>Groceries</td>\n",
       "      <td>M1738</td>\n",
       "      <td>Tecno_Spark</td>\n",
       "      <td>Kaduna</td>\n",
       "      <td>0</td>\n",
       "      <td>2023-01</td>\n",
       "      <td>10.714508</td>\n",
       "      <td>9</td>\n",
       "      <td>Sunday</td>\n",
       "    </tr>\n",
       "    <tr>\n",
       "      <th>5601</th>\n",
       "      <td>1901</td>\n",
       "      <td>53</td>\n",
       "      <td>2023-01-24 09:15:00</td>\n",
       "      <td>23950.43</td>\n",
       "      <td>Groceries</td>\n",
       "      <td>M8195</td>\n",
       "      <td>iPhone_12</td>\n",
       "      <td>Kaduna</td>\n",
       "      <td>0</td>\n",
       "      <td>2023-01</td>\n",
       "      <td>10.083783</td>\n",
       "      <td>9</td>\n",
       "      <td>Tuesday</td>\n",
       "    </tr>\n",
       "    <tr>\n",
       "      <th>9836</th>\n",
       "      <td>1903</td>\n",
       "      <td>53</td>\n",
       "      <td>2023-02-10 22:57:00</td>\n",
       "      <td>41544.89</td>\n",
       "      <td>Groceries</td>\n",
       "      <td>M5055</td>\n",
       "      <td>iPhone_12</td>\n",
       "      <td>Kaduna</td>\n",
       "      <td>0</td>\n",
       "      <td>2023-02</td>\n",
       "      <td>10.634554</td>\n",
       "      <td>22</td>\n",
       "      <td>Friday</td>\n",
       "    </tr>\n",
       "    <tr>\n",
       "      <th>14230</th>\n",
       "      <td>1877</td>\n",
       "      <td>53</td>\n",
       "      <td>2023-03-01 04:46:00</td>\n",
       "      <td>92154.41</td>\n",
       "      <td>Fuel</td>\n",
       "      <td>M9063</td>\n",
       "      <td>Tecno_Spark</td>\n",
       "      <td>Kaduna</td>\n",
       "      <td>0</td>\n",
       "      <td>2023-03</td>\n",
       "      <td>11.431232</td>\n",
       "      <td>4</td>\n",
       "      <td>Wednesday</td>\n",
       "    </tr>\n",
       "    <tr>\n",
       "      <th>16262</th>\n",
       "      <td>1860</td>\n",
       "      <td>53</td>\n",
       "      <td>2023-03-09 19:45:00</td>\n",
       "      <td>116665.98</td>\n",
       "      <td>Groceries</td>\n",
       "      <td>M6609</td>\n",
       "      <td>iPhone_12</td>\n",
       "      <td>Kaduna</td>\n",
       "      <td>0</td>\n",
       "      <td>2023-03</td>\n",
       "      <td>11.667079</td>\n",
       "      <td>19</td>\n",
       "      <td>Thursday</td>\n",
       "    </tr>\n",
       "    <tr>\n",
       "      <th>17581</th>\n",
       "      <td>1864</td>\n",
       "      <td>53</td>\n",
       "      <td>2023-03-15 04:37:00</td>\n",
       "      <td>31331.88</td>\n",
       "      <td>Groceries</td>\n",
       "      <td>M6253</td>\n",
       "      <td>iPhone_12</td>\n",
       "      <td>Kaduna</td>\n",
       "      <td>0</td>\n",
       "      <td>2023-03</td>\n",
       "      <td>10.352423</td>\n",
       "      <td>4</td>\n",
       "      <td>Wednesday</td>\n",
       "    </tr>\n",
       "    <tr>\n",
       "      <th>19285</th>\n",
       "      <td>1894</td>\n",
       "      <td>53</td>\n",
       "      <td>2023-03-22 09:55:00</td>\n",
       "      <td>37714.31</td>\n",
       "      <td>Electronics</td>\n",
       "      <td>M9828</td>\n",
       "      <td>iPhone_12</td>\n",
       "      <td>Kaduna</td>\n",
       "      <td>0</td>\n",
       "      <td>2023-03</td>\n",
       "      <td>10.537821</td>\n",
       "      <td>9</td>\n",
       "      <td>Wednesday</td>\n",
       "    </tr>\n",
       "    <tr>\n",
       "      <th>24785</th>\n",
       "      <td>1876</td>\n",
       "      <td>53</td>\n",
       "      <td>2023-04-14 21:07:00</td>\n",
       "      <td>107309.93</td>\n",
       "      <td>Groceries</td>\n",
       "      <td>M3935</td>\n",
       "      <td>Windows_PC</td>\n",
       "      <td>Kaduna</td>\n",
       "      <td>0</td>\n",
       "      <td>2023-04</td>\n",
       "      <td>11.583486</td>\n",
       "      <td>21</td>\n",
       "      <td>Friday</td>\n",
       "    </tr>\n",
       "    <tr>\n",
       "      <th>27364</th>\n",
       "      <td>1870</td>\n",
       "      <td>53</td>\n",
       "      <td>2023-04-25 13:52:00</td>\n",
       "      <td>84727.87</td>\n",
       "      <td>Online Shopping</td>\n",
       "      <td>M4044</td>\n",
       "      <td>Samsung_S21</td>\n",
       "      <td>Kaduna</td>\n",
       "      <td>0</td>\n",
       "      <td>2023-04</td>\n",
       "      <td>11.347212</td>\n",
       "      <td>13</td>\n",
       "      <td>Tuesday</td>\n",
       "    </tr>\n",
       "  </tbody>\n",
       "</table>\n",
       "</div>"
      ],
      "text/plain": [
       "       transaction_id  customer_id           timestamp     amount  \\\n",
       "3069             1869           53 2023-01-13 16:22:00   68356.04   \n",
       "3492             1884           53 2023-01-15 09:58:00   45003.07   \n",
       "5601             1901           53 2023-01-24 09:15:00   23950.43   \n",
       "9836             1903           53 2023-02-10 22:57:00   41544.89   \n",
       "14230            1877           53 2023-03-01 04:46:00   92154.41   \n",
       "16262            1860           53 2023-03-09 19:45:00  116665.98   \n",
       "17581            1864           53 2023-03-15 04:37:00   31331.88   \n",
       "19285            1894           53 2023-03-22 09:55:00   37714.31   \n",
       "24785            1876           53 2023-04-14 21:07:00  107309.93   \n",
       "27364            1870           53 2023-04-25 13:52:00   84727.87   \n",
       "\n",
       "      merchant_category merchant_id    device_id location  is_fraud    month  \\\n",
       "3069               Fuel       M9506  Samsung_S21   Kaduna         0  2023-01   \n",
       "3492          Groceries       M1738  Tecno_Spark   Kaduna         0  2023-01   \n",
       "5601          Groceries       M8195    iPhone_12   Kaduna         0  2023-01   \n",
       "9836          Groceries       M5055    iPhone_12   Kaduna         0  2023-02   \n",
       "14230              Fuel       M9063  Tecno_Spark   Kaduna         0  2023-03   \n",
       "16262         Groceries       M6609    iPhone_12   Kaduna         0  2023-03   \n",
       "17581         Groceries       M6253    iPhone_12   Kaduna         0  2023-03   \n",
       "19285       Electronics       M9828    iPhone_12   Kaduna         0  2023-03   \n",
       "24785         Groceries       M3935   Windows_PC   Kaduna         0  2023-04   \n",
       "27364   Online Shopping       M4044  Samsung_S21   Kaduna         0  2023-04   \n",
       "\n",
       "       amount_log  hour    weekday  \n",
       "3069    11.132500    16     Friday  \n",
       "3492    10.714508     9     Sunday  \n",
       "5601    10.083783     9    Tuesday  \n",
       "9836    10.634554    22     Friday  \n",
       "14230   11.431232     4  Wednesday  \n",
       "16262   11.667079    19   Thursday  \n",
       "17581   10.352423     4  Wednesday  \n",
       "19285   10.537821     9  Wednesday  \n",
       "24785   11.583486    21     Friday  \n",
       "27364   11.347212    13    Tuesday  "
      ]
     },
     "execution_count": 29,
     "metadata": {},
     "output_type": "execute_result"
    }
   ],
   "source": [
    "\n",
    "# Explore one high-activity customer timeline\n",
    "top_cust = cust_counts.sort_values(ascending=False).index[0]\n",
    "sub = df[df[\"customer_id\"] == top_cust].sort_values(\"timestamp\")\n",
    "sub.head(10)\n"
   ]
  },
  {
   "cell_type": "code",
   "execution_count": 31,
   "id": "af256bb1",
   "metadata": {},
   "outputs": [
    {
     "data": {
      "application/vnd.microsoft.datawrangler.viewer.v0+json": {
       "columns": [
        {
         "name": "index",
         "rawType": "object",
         "type": "string"
        },
        {
         "name": "amount",
         "rawType": "float64",
         "type": "float"
        },
        {
         "name": "is_fraud",
         "rawType": "float64",
         "type": "float"
        }
       ],
       "ref": "8d64a95d-36e5-494c-a2f8-f78bebc52477",
       "rows": [
        [
         "amount",
         "1.0",
         "0.0005430927591958174"
        ],
        [
         "is_fraud",
         "0.0005430927591958174",
         "1.0"
        ]
       ],
       "shape": {
        "columns": 2,
        "rows": 2
       }
      },
      "text/html": [
       "<div>\n",
       "<style scoped>\n",
       "    .dataframe tbody tr th:only-of-type {\n",
       "        vertical-align: middle;\n",
       "    }\n",
       "\n",
       "    .dataframe tbody tr th {\n",
       "        vertical-align: top;\n",
       "    }\n",
       "\n",
       "    .dataframe thead th {\n",
       "        text-align: right;\n",
       "    }\n",
       "</style>\n",
       "<table border=\"1\" class=\"dataframe\">\n",
       "  <thead>\n",
       "    <tr style=\"text-align: right;\">\n",
       "      <th></th>\n",
       "      <th>amount</th>\n",
       "      <th>is_fraud</th>\n",
       "    </tr>\n",
       "  </thead>\n",
       "  <tbody>\n",
       "    <tr>\n",
       "      <th>amount</th>\n",
       "      <td>1.000000</td>\n",
       "      <td>0.000543</td>\n",
       "    </tr>\n",
       "    <tr>\n",
       "      <th>is_fraud</th>\n",
       "      <td>0.000543</td>\n",
       "      <td>1.000000</td>\n",
       "    </tr>\n",
       "  </tbody>\n",
       "</table>\n",
       "</div>"
      ],
      "text/plain": [
       "            amount  is_fraud\n",
       "amount    1.000000  0.000543\n",
       "is_fraud  0.000543  1.000000"
      ]
     },
     "execution_count": 31,
     "metadata": {},
     "output_type": "execute_result"
    }
   ],
   "source": [
    "# correlations.py\n",
    "num_cols = [\"amount\",\"amount_log\",\"hour\"]\n",
    "# Add numeric-encoded categories if helpful\n",
    "corr = df[[\"amount\",\"is_fraud\"]].corr()\n",
    "corr"
   ]
  },
  {
   "cell_type": "code",
   "execution_count": 33,
   "id": "13c221a4",
   "metadata": {},
   "outputs": [
    {
     "name": "stdout",
     "output_type": "stream",
     "text": [
      "Saved customer aggregates to eda_outputs\\customer_aggregates.csv\n"
     ]
    }
   ],
   "source": [
    "# You can compute simple aggregated features per customer as part of EDA:\n",
    "cust_agg = df.groupby(\"customer_id\").agg({\n",
    "    \"amount\": [\"mean\",\"std\",\"max\",\"min\"],\n",
    "    \"is_fraud\": \"sum\",\n",
    "    \"transaction_id\": \"count\"\n",
    "})\n",
    "cust_agg.columns = [\"_\".join(col).strip() for col in cust_agg.columns.values]\n",
    "cust_agg.reset_index(inplace=True)\n",
    "cust_agg.to_csv(os.path.join(out_dir, \"customer_aggregates.csv\"), index=False)\n",
    "print(\"Saved customer aggregates to\", os.path.join(out_dir, \"customer_aggregates.csv\"))"
   ]
  },
  {
   "cell_type": "code",
   "execution_count": 34,
   "id": "ed4622d2",
   "metadata": {},
   "outputs": [
    {
     "name": "stdout",
     "output_type": "stream",
     "text": [
      "Example fraud txn: {'transaction_id': 114091, 'customer_id': 3243, 'timestamp': Timestamp('2024-06-20 03:13:00'), 'amount': 188733.78, 'merchant_category': 'Entertainment', 'merchant_id': 'M2508', 'device_id': 'iPhone_12', 'location': 'Kano', 'is_fraud': 1, 'month': Period('2024-06', 'M'), 'amount_log': 12.148098028098444, 'hour': 3, 'weekday': 'Thursday'}\n"
     ]
    }
   ],
   "source": [
    "# eda_step9_sequences.py\n",
    "# Find a fraudulent transaction and show preceding transactions for that customer\n",
    "fraud_tx = df[df[\"is_fraud\"]==1].sample(1).iloc[0]\n",
    "cust = fraud_tx[\"customer_id\"]\n",
    "print(\"Example fraud txn:\", fraud_tx.to_dict())\n",
    "\n"
   ]
  },
  {
   "cell_type": "code",
   "execution_count": 36,
   "id": "cf9fd8f4",
   "metadata": {},
   "outputs": [
    {
     "data": {
      "application/vnd.microsoft.datawrangler.viewer.v0+json": {
       "columns": [
        {
         "name": "index",
         "rawType": "int64",
         "type": "integer"
        },
        {
         "name": "transaction_id",
         "rawType": "int64",
         "type": "integer"
        },
        {
         "name": "timestamp",
         "rawType": "datetime64[ns]",
         "type": "datetime"
        },
        {
         "name": "amount",
         "rawType": "float64",
         "type": "float"
        },
        {
         "name": "merchant_category",
         "rawType": "object",
         "type": "string"
        },
        {
         "name": "device_id",
         "rawType": "object",
         "type": "string"
        },
        {
         "name": "location",
         "rawType": "object",
         "type": "string"
        },
        {
         "name": "is_fraud",
         "rawType": "int64",
         "type": "integer"
        }
       ],
       "ref": "6d698f5e-6c6f-4546-870a-b95fd90f6c42",
       "rows": [
        [
         "77629",
         "114075",
         "2023-11-21 15:22:00",
         "173449.21",
         "Electronics",
         "iPhone_12",
         "Kano",
         "0"
        ],
        [
         "81224",
         "114083",
         "2023-12-06 11:22:00",
         "91130.23",
         "Travel",
         "Infinix_Hot",
         "Kano",
         "0"
        ],
        [
         "94489",
         "114094",
         "2024-01-30 06:40:00",
         "181807.43",
         "Entertainment",
         "Tecno_Spark",
         "Kano",
         "0"
        ],
        [
         "101375",
         "114105",
         "2024-02-28 06:17:00",
         "139465.19",
         "Electronics",
         "Windows_PC",
         "Kano",
         "0"
        ],
        [
         "106356",
         "114087",
         "2024-03-19 14:23:00",
         "198091.57",
         "Entertainment",
         "Windows_PC",
         "Kano",
         "0"
        ],
        [
         "108006",
         "114088",
         "2024-03-26 19:04:00",
         "79968.57",
         "Travel",
         "Infinix_Hot",
         "Kano",
         "0"
        ],
        [
         "118208",
         "114110",
         "2024-05-08 09:59:00",
         "135890.5",
         "Electronics",
         "Samsung_S21",
         "Kano",
         "0"
        ],
        [
         "122707",
         "114099",
         "2024-05-27 01:14:00",
         "143491.14",
         "Online Shopping",
         "MacBook_Pro",
         "Kano",
         "1"
        ],
        [
         "127350",
         "114111",
         "2024-06-15 17:31:00",
         "55957.75",
         "Online Shopping",
         "iPhone_12",
         "Kano",
         "0"
        ],
        [
         "128398",
         "114091",
         "2024-06-20 03:13:00",
         "188733.78",
         "Entertainment",
         "iPhone_12",
         "Kano",
         "1"
        ]
       ],
       "shape": {
        "columns": 7,
        "rows": 10
       }
      },
      "text/html": [
       "<div>\n",
       "<style scoped>\n",
       "    .dataframe tbody tr th:only-of-type {\n",
       "        vertical-align: middle;\n",
       "    }\n",
       "\n",
       "    .dataframe tbody tr th {\n",
       "        vertical-align: top;\n",
       "    }\n",
       "\n",
       "    .dataframe thead th {\n",
       "        text-align: right;\n",
       "    }\n",
       "</style>\n",
       "<table border=\"1\" class=\"dataframe\">\n",
       "  <thead>\n",
       "    <tr style=\"text-align: right;\">\n",
       "      <th></th>\n",
       "      <th>transaction_id</th>\n",
       "      <th>timestamp</th>\n",
       "      <th>amount</th>\n",
       "      <th>merchant_category</th>\n",
       "      <th>device_id</th>\n",
       "      <th>location</th>\n",
       "      <th>is_fraud</th>\n",
       "    </tr>\n",
       "  </thead>\n",
       "  <tbody>\n",
       "    <tr>\n",
       "      <th>77629</th>\n",
       "      <td>114075</td>\n",
       "      <td>2023-11-21 15:22:00</td>\n",
       "      <td>173449.21</td>\n",
       "      <td>Electronics</td>\n",
       "      <td>iPhone_12</td>\n",
       "      <td>Kano</td>\n",
       "      <td>0</td>\n",
       "    </tr>\n",
       "    <tr>\n",
       "      <th>81224</th>\n",
       "      <td>114083</td>\n",
       "      <td>2023-12-06 11:22:00</td>\n",
       "      <td>91130.23</td>\n",
       "      <td>Travel</td>\n",
       "      <td>Infinix_Hot</td>\n",
       "      <td>Kano</td>\n",
       "      <td>0</td>\n",
       "    </tr>\n",
       "    <tr>\n",
       "      <th>94489</th>\n",
       "      <td>114094</td>\n",
       "      <td>2024-01-30 06:40:00</td>\n",
       "      <td>181807.43</td>\n",
       "      <td>Entertainment</td>\n",
       "      <td>Tecno_Spark</td>\n",
       "      <td>Kano</td>\n",
       "      <td>0</td>\n",
       "    </tr>\n",
       "    <tr>\n",
       "      <th>101375</th>\n",
       "      <td>114105</td>\n",
       "      <td>2024-02-28 06:17:00</td>\n",
       "      <td>139465.19</td>\n",
       "      <td>Electronics</td>\n",
       "      <td>Windows_PC</td>\n",
       "      <td>Kano</td>\n",
       "      <td>0</td>\n",
       "    </tr>\n",
       "    <tr>\n",
       "      <th>106356</th>\n",
       "      <td>114087</td>\n",
       "      <td>2024-03-19 14:23:00</td>\n",
       "      <td>198091.57</td>\n",
       "      <td>Entertainment</td>\n",
       "      <td>Windows_PC</td>\n",
       "      <td>Kano</td>\n",
       "      <td>0</td>\n",
       "    </tr>\n",
       "    <tr>\n",
       "      <th>108006</th>\n",
       "      <td>114088</td>\n",
       "      <td>2024-03-26 19:04:00</td>\n",
       "      <td>79968.57</td>\n",
       "      <td>Travel</td>\n",
       "      <td>Infinix_Hot</td>\n",
       "      <td>Kano</td>\n",
       "      <td>0</td>\n",
       "    </tr>\n",
       "    <tr>\n",
       "      <th>118208</th>\n",
       "      <td>114110</td>\n",
       "      <td>2024-05-08 09:59:00</td>\n",
       "      <td>135890.50</td>\n",
       "      <td>Electronics</td>\n",
       "      <td>Samsung_S21</td>\n",
       "      <td>Kano</td>\n",
       "      <td>0</td>\n",
       "    </tr>\n",
       "    <tr>\n",
       "      <th>122707</th>\n",
       "      <td>114099</td>\n",
       "      <td>2024-05-27 01:14:00</td>\n",
       "      <td>143491.14</td>\n",
       "      <td>Online Shopping</td>\n",
       "      <td>MacBook_Pro</td>\n",
       "      <td>Kano</td>\n",
       "      <td>1</td>\n",
       "    </tr>\n",
       "    <tr>\n",
       "      <th>127350</th>\n",
       "      <td>114111</td>\n",
       "      <td>2024-06-15 17:31:00</td>\n",
       "      <td>55957.75</td>\n",
       "      <td>Online Shopping</td>\n",
       "      <td>iPhone_12</td>\n",
       "      <td>Kano</td>\n",
       "      <td>0</td>\n",
       "    </tr>\n",
       "    <tr>\n",
       "      <th>128398</th>\n",
       "      <td>114091</td>\n",
       "      <td>2024-06-20 03:13:00</td>\n",
       "      <td>188733.78</td>\n",
       "      <td>Entertainment</td>\n",
       "      <td>iPhone_12</td>\n",
       "      <td>Kano</td>\n",
       "      <td>1</td>\n",
       "    </tr>\n",
       "  </tbody>\n",
       "</table>\n",
       "</div>"
      ],
      "text/plain": [
       "        transaction_id           timestamp     amount merchant_category  \\\n",
       "77629           114075 2023-11-21 15:22:00  173449.21       Electronics   \n",
       "81224           114083 2023-12-06 11:22:00   91130.23            Travel   \n",
       "94489           114094 2024-01-30 06:40:00  181807.43     Entertainment   \n",
       "101375          114105 2024-02-28 06:17:00  139465.19       Electronics   \n",
       "106356          114087 2024-03-19 14:23:00  198091.57     Entertainment   \n",
       "108006          114088 2024-03-26 19:04:00   79968.57            Travel   \n",
       "118208          114110 2024-05-08 09:59:00  135890.50       Electronics   \n",
       "122707          114099 2024-05-27 01:14:00  143491.14   Online Shopping   \n",
       "127350          114111 2024-06-15 17:31:00   55957.75   Online Shopping   \n",
       "128398          114091 2024-06-20 03:13:00  188733.78     Entertainment   \n",
       "\n",
       "          device_id location  is_fraud  \n",
       "77629     iPhone_12     Kano         0  \n",
       "81224   Infinix_Hot     Kano         0  \n",
       "94489   Tecno_Spark     Kano         0  \n",
       "101375   Windows_PC     Kano         0  \n",
       "106356   Windows_PC     Kano         0  \n",
       "108006  Infinix_Hot     Kano         0  \n",
       "118208  Samsung_S21     Kano         0  \n",
       "122707  MacBook_Pro     Kano         1  \n",
       "127350    iPhone_12     Kano         0  \n",
       "128398    iPhone_12     Kano         1  "
      ]
     },
     "execution_count": 36,
     "metadata": {},
     "output_type": "execute_result"
    }
   ],
   "source": [
    "history = df[(df[\"customer_id\"]==cust) & (df[\"timestamp\"] <= fraud_tx[\"timestamp\"])].sort_values(\"timestamp\").tail(10)\n",
    "history[[\"transaction_id\",\"timestamp\",\"amount\",\"merchant_category\",\"device_id\",\"location\",\"is_fraud\"]]"
   ]
  },
  {
   "cell_type": "code",
   "execution_count": 37,
   "id": "41289b65",
   "metadata": {},
   "outputs": [
    {
     "name": "stdout",
     "output_type": "stream",
     "text": [
      "Saved EDA summary and outputs to eda_outputs\n"
     ]
    }
   ],
   "source": [
    "# eda_step10_summary.py\n",
    "summary = {\n",
    "    \"total_txns\": len(df),\n",
    "    \"total_frauds\": int(df[\"is_fraud\"].sum()),\n",
    "    \"fraud_ratio\": float(df[\"is_fraud\"].mean()),\n",
    "    \"unique_customers\": df[\"customer_id\"].nunique(),\n",
    "    \"unique_merchants\": df[\"merchant_id\"].nunique() if \"merchant_id\" in df.columns else None\n",
    "}\n",
    "pd.DataFrame([summary]).to_csv(os.path.join(out_dir, \"eda_summary.csv\"), index=False)\n",
    "with open(os.path.join(out_dir, \"README_EDA.txt\"), \"w\") as f:\n",
    "    f.write(\"EDA summary\\n\")\n",
    "    for k,v in summary.items():\n",
    "        f.write(f\"{k}: {v}\\n\")\n",
    "print(\"Saved EDA summary and outputs to\", out_dir)\n"
   ]
  },
  {
   "cell_type": "code",
   "execution_count": null,
   "id": "253b9062",
   "metadata": {},
   "outputs": [],
   "source": []
  },
  {
   "cell_type": "code",
   "execution_count": null,
   "id": "1cfca605",
   "metadata": {},
   "outputs": [],
   "source": []
  },
  {
   "cell_type": "code",
   "execution_count": null,
   "id": "ee24fe81",
   "metadata": {},
   "outputs": [],
   "source": []
  },
  {
   "cell_type": "code",
   "execution_count": null,
   "id": "14b6d26d",
   "metadata": {},
   "outputs": [],
   "source": []
  },
  {
   "cell_type": "code",
   "execution_count": null,
   "id": "5f0df4da",
   "metadata": {},
   "outputs": [],
   "source": []
  },
  {
   "cell_type": "code",
   "execution_count": null,
   "id": "304080fa",
   "metadata": {},
   "outputs": [],
   "source": []
  },
  {
   "cell_type": "code",
   "execution_count": null,
   "id": "268d752c",
   "metadata": {},
   "outputs": [],
   "source": []
  },
  {
   "cell_type": "code",
   "execution_count": null,
   "id": "c941ccb5",
   "metadata": {},
   "outputs": [],
   "source": []
  }
 ],
 "metadata": {
  "kernelspec": {
   "display_name": "mlops",
   "language": "python",
   "name": "python3"
  },
  "language_info": {
   "codemirror_mode": {
    "name": "ipython",
    "version": 3
   },
   "file_extension": ".py",
   "mimetype": "text/x-python",
   "name": "python",
   "nbconvert_exporter": "python",
   "pygments_lexer": "ipython3",
   "version": "3.10.16"
  }
 },
 "nbformat": 4,
 "nbformat_minor": 5
}
