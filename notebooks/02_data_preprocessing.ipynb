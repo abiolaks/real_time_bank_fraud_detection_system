{
 "cells": [
  {
   "cell_type": "code",
   "execution_count": 1,
   "id": "931f9a1a",
   "metadata": {},
   "outputs": [
    {
     "name": "stdout",
     "output_type": "stream",
     "text": [
      "Shape: (174780, 9)\n",
      "\n",
      "Preview:\n",
      "   transaction_id  customer_id           timestamp    amount  \\\n",
      "0          159943         4575 2023-01-01 00:10:00  35747.94   \n",
      "1             887           25 2023-01-01 00:10:00  41011.80   \n",
      "2            2381           68 2023-01-01 00:21:00  97614.54   \n",
      "3          121485         3455 2023-01-01 00:36:00  58350.27   \n",
      "4           88703         2519 2023-01-01 00:51:00  93539.79   \n",
      "\n",
      "  merchant_category merchant_id    device_id location  is_fraud  \n",
      "0       Restaurants       M8906    iPhone_12   Ibadan         0  \n",
      "1       Restaurants       M4162   Windows_PC    Abuja         1  \n",
      "2           Fashion       M9815  Samsung_S21    Lagos         0  \n",
      "3            Health       M9060  Infinix_Hot   Kaduna         0  \n",
      "4       Restaurants       M6597  Infinix_Hot     Kano         0  \n",
      "\n",
      "Missing values:\n",
      "transaction_id       0\n",
      "customer_id          0\n",
      "timestamp            0\n",
      "amount               0\n",
      "merchant_category    0\n",
      "merchant_id          0\n",
      "device_id            0\n",
      "location             0\n",
      "is_fraud             0\n",
      "dtype: int64\n"
     ]
    }
   ],
   "source": [
    "import pandas as pd\n",
    "import numpy as np\n",
    "\n",
    "# Load the synthetic dataset\n",
    "df = pd.read_csv(\"../data/raw/bank_transactions.csv\", parse_dates=[\"timestamp\"])\n",
    "\n",
    "print(\"Shape:\", df.shape)\n",
    "print(\"\\nPreview:\")\n",
    "print(df.head())\n",
    "\n",
    "print(\"\\nMissing values:\")\n",
    "print(df.isnull().sum())\n"
   ]
  },
  {
   "cell_type": "code",
   "execution_count": 2,
   "id": "f2c73794",
   "metadata": {},
   "outputs": [],
   "source": [
    "# Drop duplicate transactions (if any)\n",
    "df = df.drop_duplicates(subset=[\"transaction_id\"])\n",
    "\n",
    "# Fill missing categorical values with \"Unknown\"\n",
    "categorical_cols = [\"merchant_category\", \"merchant_id\", \"device_id\", \"location\"]\n",
    "df[categorical_cols] = df[categorical_cols].fillna(\"Unknown\")\n",
    "\n",
    "# Fill numeric values with median\n",
    "df[\"amount\"] = df[\"amount\"].fillna(df[\"amount\"].median())\n"
   ]
  },
  {
   "cell_type": "code",
   "execution_count": 3,
   "id": "73930346",
   "metadata": {},
   "outputs": [],
   "source": [
    "# Extracting time based features\n",
    "df[\"hour_of_day\"] = df[\"timestamp\"].dt.hour\n",
    "df[\"day_of_week\"] = df[\"timestamp\"].dt.dayofweek\n",
    "df[\"is_night\"] = df[\"hour_of_day\"].apply(lambda x: 1 if x < 6 or x > 22 else 0)\n",
    "df[\"is_weekend\"] = df[\"day_of_week\"].apply(lambda x: 1 if x >= 5 else 0)\n"
   ]
  },
  {
   "cell_type": "code",
   "execution_count": 4,
   "id": "6e68c75c",
   "metadata": {},
   "outputs": [
    {
     "name": "stdout",
     "output_type": "stream",
     "text": [
      "Categorical features encoded successfully.\n"
     ]
    }
   ],
   "source": [
    "from sklearn.preprocessing import LabelEncoder\n",
    "\n",
    "label_encoders = {}\n",
    "categorical_cols = [\"merchant_category\", \"merchant_id\", \"device_id\", \"location\"]\n",
    "\n",
    "for col in categorical_cols:\n",
    "    le = LabelEncoder()\n",
    "    df[col] = le.fit_transform(df[col])\n",
    "    label_encoders[col] = le\n",
    "\n",
    "print(\"Categorical features encoded successfully.\")\n"
   ]
  },
  {
   "cell_type": "code",
   "execution_count": null,
   "id": "989aa080",
   "metadata": {},
   "outputs": [],
   "source": [
    "# scale data\n",
    "from sklearn.preprocessing import StandardScaler\n",
    "\n",
    "scaler = StandardScaler()\n",
    "df[\"amount_scaled\"] = scaler.fit_transform(df[[\"amount\"]])\n"
   ]
  },
  {
   "cell_type": "code",
   "execution_count": 7,
   "id": "e36a4b0f",
   "metadata": {},
   "outputs": [
    {
     "name": "stdout",
     "output_type": "stream",
     "text": [
      "✅ Preprocessing complete. Saved as preprocessed_transactions.csv\n"
     ]
    }
   ],
   "source": [
    "df.to_csv(\"../data/processed/preprocessed_transactions.csv\", index=False)\n",
    "print(\"✅ Preprocessing complete. Saved as preprocessed_transactions.csv\")\n"
   ]
  },
  {
   "cell_type": "code",
   "execution_count": null,
   "id": "78fed05d",
   "metadata": {},
   "outputs": [],
   "source": []
  }
 ],
 "metadata": {
  "kernelspec": {
   "display_name": "mlops",
   "language": "python",
   "name": "python3"
  },
  "language_info": {
   "codemirror_mode": {
    "name": "ipython",
    "version": 3
   },
   "file_extension": ".py",
   "mimetype": "text/x-python",
   "name": "python",
   "nbconvert_exporter": "python",
   "pygments_lexer": "ipython3",
   "version": "3.10.16"
  }
 },
 "nbformat": 4,
 "nbformat_minor": 5
}
