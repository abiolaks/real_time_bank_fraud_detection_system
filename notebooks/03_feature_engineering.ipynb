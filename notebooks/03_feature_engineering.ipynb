{
 "cells": [
  {
   "cell_type": "code",
   "execution_count": 3,
   "id": "35c7d9b4",
   "metadata": {},
   "outputs": [
    {
     "name": "stdout",
     "output_type": "stream",
     "text": [
      "Data loaded: (174780, 14)\n"
     ]
    },
    {
     "data": {
      "application/vnd.microsoft.datawrangler.viewer.v0+json": {
       "columns": [
        {
         "name": "index",
         "rawType": "int64",
         "type": "integer"
        },
        {
         "name": "transaction_id",
         "rawType": "int64",
         "type": "integer"
        },
        {
         "name": "customer_id",
         "rawType": "int64",
         "type": "integer"
        },
        {
         "name": "timestamp",
         "rawType": "datetime64[ns]",
         "type": "datetime"
        },
        {
         "name": "amount",
         "rawType": "float64",
         "type": "float"
        },
        {
         "name": "merchant_category",
         "rawType": "int64",
         "type": "integer"
        },
        {
         "name": "merchant_id",
         "rawType": "int64",
         "type": "integer"
        },
        {
         "name": "device_id",
         "rawType": "int64",
         "type": "integer"
        },
        {
         "name": "location",
         "rawType": "int64",
         "type": "integer"
        },
        {
         "name": "is_fraud",
         "rawType": "int64",
         "type": "integer"
        },
        {
         "name": "hour_of_day",
         "rawType": "int64",
         "type": "integer"
        },
        {
         "name": "day_of_week",
         "rawType": "int64",
         "type": "integer"
        },
        {
         "name": "is_night",
         "rawType": "int64",
         "type": "integer"
        },
        {
         "name": "is_weekend",
         "rawType": "int64",
         "type": "integer"
        },
        {
         "name": "amount_scaled",
         "rawType": "float64",
         "type": "float"
        }
       ],
       "ref": "f1b0f9b1-abf9-40df-ae1c-3c17d470ed32",
       "rows": [
        [
         "0",
         "159943",
         "4575",
         "2023-01-01 00:10:00",
         "35747.94",
         "7",
         "7906",
         "5",
         "2",
         "0",
         "0",
         "6",
         "1",
         "1",
         "-0.580246475286561"
        ],
        [
         "1",
         "887",
         "25",
         "2023-01-01 00:10:00",
         "41011.8",
         "7",
         "3162",
         "4",
         "0",
         "1",
         "0",
         "6",
         "1",
         "1",
         "-0.4572069708795758"
        ],
        [
         "2",
         "2381",
         "68",
         "2023-01-01 00:21:00",
         "97614.54",
         "2",
         "8815",
         "2",
         "5",
         "0",
         "0",
         "6",
         "1",
         "1",
         "0.8658474184236047"
        ],
        [
         "3",
         "121485",
         "3455",
         "2023-01-01 00:36:00",
         "58350.27",
         "5",
         "8060",
         "0",
         "3",
         "0",
         "0",
         "6",
         "1",
         "1",
         "-0.0519308510786348"
        ],
        [
         "4",
         "88703",
         "2519",
         "2023-01-01 00:51:00",
         "93539.79",
         "7",
         "5597",
         "0",
         "4",
         "0",
         "0",
         "6",
         "1",
         "1",
         "0.7706026321674422"
        ]
       ],
       "shape": {
        "columns": 14,
        "rows": 5
       }
      },
      "text/html": [
       "<div>\n",
       "<style scoped>\n",
       "    .dataframe tbody tr th:only-of-type {\n",
       "        vertical-align: middle;\n",
       "    }\n",
       "\n",
       "    .dataframe tbody tr th {\n",
       "        vertical-align: top;\n",
       "    }\n",
       "\n",
       "    .dataframe thead th {\n",
       "        text-align: right;\n",
       "    }\n",
       "</style>\n",
       "<table border=\"1\" class=\"dataframe\">\n",
       "  <thead>\n",
       "    <tr style=\"text-align: right;\">\n",
       "      <th></th>\n",
       "      <th>transaction_id</th>\n",
       "      <th>customer_id</th>\n",
       "      <th>timestamp</th>\n",
       "      <th>amount</th>\n",
       "      <th>merchant_category</th>\n",
       "      <th>merchant_id</th>\n",
       "      <th>device_id</th>\n",
       "      <th>location</th>\n",
       "      <th>is_fraud</th>\n",
       "      <th>hour_of_day</th>\n",
       "      <th>day_of_week</th>\n",
       "      <th>is_night</th>\n",
       "      <th>is_weekend</th>\n",
       "      <th>amount_scaled</th>\n",
       "    </tr>\n",
       "  </thead>\n",
       "  <tbody>\n",
       "    <tr>\n",
       "      <th>0</th>\n",
       "      <td>159943</td>\n",
       "      <td>4575</td>\n",
       "      <td>2023-01-01 00:10:00</td>\n",
       "      <td>35747.94</td>\n",
       "      <td>7</td>\n",
       "      <td>7906</td>\n",
       "      <td>5</td>\n",
       "      <td>2</td>\n",
       "      <td>0</td>\n",
       "      <td>0</td>\n",
       "      <td>6</td>\n",
       "      <td>1</td>\n",
       "      <td>1</td>\n",
       "      <td>-0.580246</td>\n",
       "    </tr>\n",
       "    <tr>\n",
       "      <th>1</th>\n",
       "      <td>887</td>\n",
       "      <td>25</td>\n",
       "      <td>2023-01-01 00:10:00</td>\n",
       "      <td>41011.80</td>\n",
       "      <td>7</td>\n",
       "      <td>3162</td>\n",
       "      <td>4</td>\n",
       "      <td>0</td>\n",
       "      <td>1</td>\n",
       "      <td>0</td>\n",
       "      <td>6</td>\n",
       "      <td>1</td>\n",
       "      <td>1</td>\n",
       "      <td>-0.457207</td>\n",
       "    </tr>\n",
       "    <tr>\n",
       "      <th>2</th>\n",
       "      <td>2381</td>\n",
       "      <td>68</td>\n",
       "      <td>2023-01-01 00:21:00</td>\n",
       "      <td>97614.54</td>\n",
       "      <td>2</td>\n",
       "      <td>8815</td>\n",
       "      <td>2</td>\n",
       "      <td>5</td>\n",
       "      <td>0</td>\n",
       "      <td>0</td>\n",
       "      <td>6</td>\n",
       "      <td>1</td>\n",
       "      <td>1</td>\n",
       "      <td>0.865847</td>\n",
       "    </tr>\n",
       "    <tr>\n",
       "      <th>3</th>\n",
       "      <td>121485</td>\n",
       "      <td>3455</td>\n",
       "      <td>2023-01-01 00:36:00</td>\n",
       "      <td>58350.27</td>\n",
       "      <td>5</td>\n",
       "      <td>8060</td>\n",
       "      <td>0</td>\n",
       "      <td>3</td>\n",
       "      <td>0</td>\n",
       "      <td>0</td>\n",
       "      <td>6</td>\n",
       "      <td>1</td>\n",
       "      <td>1</td>\n",
       "      <td>-0.051931</td>\n",
       "    </tr>\n",
       "    <tr>\n",
       "      <th>4</th>\n",
       "      <td>88703</td>\n",
       "      <td>2519</td>\n",
       "      <td>2023-01-01 00:51:00</td>\n",
       "      <td>93539.79</td>\n",
       "      <td>7</td>\n",
       "      <td>5597</td>\n",
       "      <td>0</td>\n",
       "      <td>4</td>\n",
       "      <td>0</td>\n",
       "      <td>0</td>\n",
       "      <td>6</td>\n",
       "      <td>1</td>\n",
       "      <td>1</td>\n",
       "      <td>0.770603</td>\n",
       "    </tr>\n",
       "  </tbody>\n",
       "</table>\n",
       "</div>"
      ],
      "text/plain": [
       "   transaction_id  customer_id           timestamp    amount  \\\n",
       "0          159943         4575 2023-01-01 00:10:00  35747.94   \n",
       "1             887           25 2023-01-01 00:10:00  41011.80   \n",
       "2            2381           68 2023-01-01 00:21:00  97614.54   \n",
       "3          121485         3455 2023-01-01 00:36:00  58350.27   \n",
       "4           88703         2519 2023-01-01 00:51:00  93539.79   \n",
       "\n",
       "   merchant_category  merchant_id  device_id  location  is_fraud  hour_of_day  \\\n",
       "0                  7         7906          5         2         0            0   \n",
       "1                  7         3162          4         0         1            0   \n",
       "2                  2         8815          2         5         0            0   \n",
       "3                  5         8060          0         3         0            0   \n",
       "4                  7         5597          0         4         0            0   \n",
       "\n",
       "   day_of_week  is_night  is_weekend  amount_scaled  \n",
       "0            6         1           1      -0.580246  \n",
       "1            6         1           1      -0.457207  \n",
       "2            6         1           1       0.865847  \n",
       "3            6         1           1      -0.051931  \n",
       "4            6         1           1       0.770603  "
      ]
     },
     "execution_count": 3,
     "metadata": {},
     "output_type": "execute_result"
    }
   ],
   "source": [
    "import pandas as pd\n",
    "import numpy as np\n",
    "\n",
    "# Load the preprocessed dataset\n",
    "df = pd.read_csv(\"../data/processed/preprocessed_transactions.csv\", parse_dates=[\"timestamp\"])\n",
    "print(\"Data loaded:\", df.shape)\n",
    "df.head()\n"
   ]
  },
  {
   "cell_type": "code",
   "execution_count": null,
   "id": "2992c16b",
   "metadata": {},
   "outputs": [
    {
     "data": {
      "application/vnd.microsoft.datawrangler.viewer.v0+json": {
       "columns": [
        {
         "name": "index",
         "rawType": "int64",
         "type": "integer"
        },
        {
         "name": "customer_id",
         "rawType": "int64",
         "type": "integer"
        },
        {
         "name": "avg_amount_per_user",
         "rawType": "float64",
         "type": "float"
        },
        {
         "name": "std_amount_per_user",
         "rawType": "float64",
         "type": "float"
        },
        {
         "name": "unique_devices_per_user",
         "rawType": "int64",
         "type": "integer"
        },
        {
         "name": "unique_locations_per_user",
         "rawType": "int64",
         "type": "integer"
        },
        {
         "name": "total_txns",
         "rawType": "int64",
         "type": "integer"
        }
       ],
       "ref": "aa795379-852d-4db7-8b15-26d2118bb7d2",
       "rows": [
        [
         "0",
         "1",
         "68131.1836",
         "27485.836054247924",
         "6",
         "4",
         "50"
        ],
        [
         "1",
         "2",
         "103639.10276595745",
         "48843.22456602575",
         "6",
         "4",
         "47"
        ],
        [
         "2",
         "3",
         "51499.491500000004",
         "28547.115209042215",
         "6",
         "2",
         "20"
        ],
        [
         "3",
         "4",
         "120810.39916666667",
         "42042.801030974646",
         "6",
         "3",
         "36"
        ],
        [
         "4",
         "5",
         "61219.286",
         "25127.24750799172",
         "6",
         "5",
         "40"
        ]
       ],
       "shape": {
        "columns": 6,
        "rows": 5
       }
      },
      "text/html": [
       "<div>\n",
       "<style scoped>\n",
       "    .dataframe tbody tr th:only-of-type {\n",
       "        vertical-align: middle;\n",
       "    }\n",
       "\n",
       "    .dataframe tbody tr th {\n",
       "        vertical-align: top;\n",
       "    }\n",
       "\n",
       "    .dataframe thead th {\n",
       "        text-align: right;\n",
       "    }\n",
       "</style>\n",
       "<table border=\"1\" class=\"dataframe\">\n",
       "  <thead>\n",
       "    <tr style=\"text-align: right;\">\n",
       "      <th></th>\n",
       "      <th>customer_id</th>\n",
       "      <th>avg_amount_per_user</th>\n",
       "      <th>std_amount_per_user</th>\n",
       "      <th>unique_devices_per_user</th>\n",
       "      <th>unique_locations_per_user</th>\n",
       "      <th>total_txns</th>\n",
       "    </tr>\n",
       "  </thead>\n",
       "  <tbody>\n",
       "    <tr>\n",
       "      <th>0</th>\n",
       "      <td>1</td>\n",
       "      <td>68131.183600</td>\n",
       "      <td>27485.836054</td>\n",
       "      <td>6</td>\n",
       "      <td>4</td>\n",
       "      <td>50</td>\n",
       "    </tr>\n",
       "    <tr>\n",
       "      <th>1</th>\n",
       "      <td>2</td>\n",
       "      <td>103639.102766</td>\n",
       "      <td>48843.224566</td>\n",
       "      <td>6</td>\n",
       "      <td>4</td>\n",
       "      <td>47</td>\n",
       "    </tr>\n",
       "    <tr>\n",
       "      <th>2</th>\n",
       "      <td>3</td>\n",
       "      <td>51499.491500</td>\n",
       "      <td>28547.115209</td>\n",
       "      <td>6</td>\n",
       "      <td>2</td>\n",
       "      <td>20</td>\n",
       "    </tr>\n",
       "    <tr>\n",
       "      <th>3</th>\n",
       "      <td>4</td>\n",
       "      <td>120810.399167</td>\n",
       "      <td>42042.801031</td>\n",
       "      <td>6</td>\n",
       "      <td>3</td>\n",
       "      <td>36</td>\n",
       "    </tr>\n",
       "    <tr>\n",
       "      <th>4</th>\n",
       "      <td>5</td>\n",
       "      <td>61219.286000</td>\n",
       "      <td>25127.247508</td>\n",
       "      <td>6</td>\n",
       "      <td>5</td>\n",
       "      <td>40</td>\n",
       "    </tr>\n",
       "  </tbody>\n",
       "</table>\n",
       "</div>"
      ],
      "text/plain": [
       "   customer_id  avg_amount_per_user  std_amount_per_user  \\\n",
       "0            1         68131.183600         27485.836054   \n",
       "1            2        103639.102766         48843.224566   \n",
       "2            3         51499.491500         28547.115209   \n",
       "3            4        120810.399167         42042.801031   \n",
       "4            5         61219.286000         25127.247508   \n",
       "\n",
       "   unique_devices_per_user  unique_locations_per_user  total_txns  \n",
       "0                        6                          4          50  \n",
       "1                        6                          4          47  \n",
       "2                        6                          2          20  \n",
       "3                        6                          3          36  \n",
       "4                        6                          5          40  "
      ]
     },
     "execution_count": 2,
     "metadata": {},
     "output_type": "execute_result"
    }
   ],
   "source": [
    "# Compute customer-level aggregates\n",
    "# These features summarize each customer’s typical transaction patterns\n",
    "customer_agg = df.groupby(\"customer_id\").agg(\n",
    "    avg_amount_per_user=(\"amount\", \"mean\"),\n",
    "    std_amount_per_user=(\"amount\", \"std\"),\n",
    "    unique_devices_per_user=(\"device_id\", \"nunique\"),\n",
    "    unique_locations_per_user=(\"location\", \"nunique\"),\n",
    "    total_txns=(\"transaction_id\", \"count\")\n",
    ").reset_index()\n",
    "\n",
    "# Fill std NaNs (in case user has only 1 txn)\n",
    "customer_agg[\"std_amount_per_user\"] = customer_agg[\"std_amount_per_user\"].fillna(0)\n",
    "customer_agg.head()\n"
   ]
  },
  {
   "cell_type": "code",
   "execution_count": 4,
   "id": "e7d34ee7",
   "metadata": {},
   "outputs": [
    {
     "data": {
      "application/vnd.microsoft.datawrangler.viewer.v0+json": {
       "columns": [
        {
         "name": "index",
         "rawType": "int64",
         "type": "integer"
        },
        {
         "name": "transaction_id",
         "rawType": "int64",
         "type": "integer"
        },
        {
         "name": "customer_id",
         "rawType": "int64",
         "type": "integer"
        },
        {
         "name": "timestamp",
         "rawType": "datetime64[ns]",
         "type": "datetime"
        },
        {
         "name": "amount",
         "rawType": "float64",
         "type": "float"
        },
        {
         "name": "merchant_category",
         "rawType": "int64",
         "type": "integer"
        },
        {
         "name": "merchant_id",
         "rawType": "int64",
         "type": "integer"
        },
        {
         "name": "device_id",
         "rawType": "int64",
         "type": "integer"
        },
        {
         "name": "location",
         "rawType": "int64",
         "type": "integer"
        },
        {
         "name": "is_fraud",
         "rawType": "int64",
         "type": "integer"
        },
        {
         "name": "hour_of_day",
         "rawType": "int64",
         "type": "integer"
        },
        {
         "name": "day_of_week",
         "rawType": "int64",
         "type": "integer"
        },
        {
         "name": "is_night",
         "rawType": "int64",
         "type": "integer"
        },
        {
         "name": "is_weekend",
         "rawType": "int64",
         "type": "integer"
        },
        {
         "name": "amount_scaled",
         "rawType": "float64",
         "type": "float"
        },
        {
         "name": "avg_amount_per_user",
         "rawType": "float64",
         "type": "float"
        },
        {
         "name": "std_amount_per_user",
         "rawType": "float64",
         "type": "float"
        },
        {
         "name": "unique_devices_per_user",
         "rawType": "int64",
         "type": "integer"
        },
        {
         "name": "unique_locations_per_user",
         "rawType": "int64",
         "type": "integer"
        },
        {
         "name": "total_txns",
         "rawType": "int64",
         "type": "integer"
        }
       ],
       "ref": "45e27d2c-fb39-4b56-92f7-83cbb9f70d11",
       "rows": [
        [
         "0",
         "159943",
         "4575",
         "2023-01-01 00:10:00",
         "35747.94",
         "7",
         "7906",
         "5",
         "2",
         "0",
         "0",
         "6",
         "1",
         "1",
         "-0.580246475286561",
         "59793.6052",
         "25932.92928100324",
         "6",
         "4",
         "50"
        ],
        [
         "1",
         "887",
         "25",
         "2023-01-01 00:10:00",
         "41011.8",
         "7",
         "3162",
         "4",
         "0",
         "1",
         "0",
         "6",
         "1",
         "1",
         "-0.4572069708795758",
         "30864.25333333333",
         "24340.60005502787",
         "6",
         "2",
         "42"
        ],
        [
         "2",
         "2381",
         "68",
         "2023-01-01 00:21:00",
         "97614.54",
         "2",
         "8815",
         "2",
         "5",
         "0",
         "0",
         "6",
         "1",
         "1",
         "0.8658474184236047",
         "56124.79393939394",
         "23407.72600537546",
         "6",
         "3",
         "33"
        ],
        [
         "3",
         "121485",
         "3455",
         "2023-01-01 00:36:00",
         "58350.27",
         "5",
         "8060",
         "0",
         "3",
         "0",
         "0",
         "6",
         "1",
         "1",
         "-0.0519308510786348",
         "27133.58652173913",
         "21855.917304153296",
         "6",
         "1",
         "23"
        ],
        [
         "4",
         "88703",
         "2519",
         "2023-01-01 00:51:00",
         "93539.79",
         "7",
         "5597",
         "0",
         "4",
         "0",
         "0",
         "6",
         "1",
         "1",
         "0.7706026321674422",
         "90759.97102564103",
         "38881.60798001306",
         "6",
         "2",
         "39"
        ]
       ],
       "shape": {
        "columns": 19,
        "rows": 5
       }
      },
      "text/html": [
       "<div>\n",
       "<style scoped>\n",
       "    .dataframe tbody tr th:only-of-type {\n",
       "        vertical-align: middle;\n",
       "    }\n",
       "\n",
       "    .dataframe tbody tr th {\n",
       "        vertical-align: top;\n",
       "    }\n",
       "\n",
       "    .dataframe thead th {\n",
       "        text-align: right;\n",
       "    }\n",
       "</style>\n",
       "<table border=\"1\" class=\"dataframe\">\n",
       "  <thead>\n",
       "    <tr style=\"text-align: right;\">\n",
       "      <th></th>\n",
       "      <th>transaction_id</th>\n",
       "      <th>customer_id</th>\n",
       "      <th>timestamp</th>\n",
       "      <th>amount</th>\n",
       "      <th>merchant_category</th>\n",
       "      <th>merchant_id</th>\n",
       "      <th>device_id</th>\n",
       "      <th>location</th>\n",
       "      <th>is_fraud</th>\n",
       "      <th>hour_of_day</th>\n",
       "      <th>day_of_week</th>\n",
       "      <th>is_night</th>\n",
       "      <th>is_weekend</th>\n",
       "      <th>amount_scaled</th>\n",
       "      <th>avg_amount_per_user</th>\n",
       "      <th>std_amount_per_user</th>\n",
       "      <th>unique_devices_per_user</th>\n",
       "      <th>unique_locations_per_user</th>\n",
       "      <th>total_txns</th>\n",
       "    </tr>\n",
       "  </thead>\n",
       "  <tbody>\n",
       "    <tr>\n",
       "      <th>0</th>\n",
       "      <td>159943</td>\n",
       "      <td>4575</td>\n",
       "      <td>2023-01-01 00:10:00</td>\n",
       "      <td>35747.94</td>\n",
       "      <td>7</td>\n",
       "      <td>7906</td>\n",
       "      <td>5</td>\n",
       "      <td>2</td>\n",
       "      <td>0</td>\n",
       "      <td>0</td>\n",
       "      <td>6</td>\n",
       "      <td>1</td>\n",
       "      <td>1</td>\n",
       "      <td>-0.580246</td>\n",
       "      <td>59793.605200</td>\n",
       "      <td>25932.929281</td>\n",
       "      <td>6</td>\n",
       "      <td>4</td>\n",
       "      <td>50</td>\n",
       "    </tr>\n",
       "    <tr>\n",
       "      <th>1</th>\n",
       "      <td>887</td>\n",
       "      <td>25</td>\n",
       "      <td>2023-01-01 00:10:00</td>\n",
       "      <td>41011.80</td>\n",
       "      <td>7</td>\n",
       "      <td>3162</td>\n",
       "      <td>4</td>\n",
       "      <td>0</td>\n",
       "      <td>1</td>\n",
       "      <td>0</td>\n",
       "      <td>6</td>\n",
       "      <td>1</td>\n",
       "      <td>1</td>\n",
       "      <td>-0.457207</td>\n",
       "      <td>30864.253333</td>\n",
       "      <td>24340.600055</td>\n",
       "      <td>6</td>\n",
       "      <td>2</td>\n",
       "      <td>42</td>\n",
       "    </tr>\n",
       "    <tr>\n",
       "      <th>2</th>\n",
       "      <td>2381</td>\n",
       "      <td>68</td>\n",
       "      <td>2023-01-01 00:21:00</td>\n",
       "      <td>97614.54</td>\n",
       "      <td>2</td>\n",
       "      <td>8815</td>\n",
       "      <td>2</td>\n",
       "      <td>5</td>\n",
       "      <td>0</td>\n",
       "      <td>0</td>\n",
       "      <td>6</td>\n",
       "      <td>1</td>\n",
       "      <td>1</td>\n",
       "      <td>0.865847</td>\n",
       "      <td>56124.793939</td>\n",
       "      <td>23407.726005</td>\n",
       "      <td>6</td>\n",
       "      <td>3</td>\n",
       "      <td>33</td>\n",
       "    </tr>\n",
       "    <tr>\n",
       "      <th>3</th>\n",
       "      <td>121485</td>\n",
       "      <td>3455</td>\n",
       "      <td>2023-01-01 00:36:00</td>\n",
       "      <td>58350.27</td>\n",
       "      <td>5</td>\n",
       "      <td>8060</td>\n",
       "      <td>0</td>\n",
       "      <td>3</td>\n",
       "      <td>0</td>\n",
       "      <td>0</td>\n",
       "      <td>6</td>\n",
       "      <td>1</td>\n",
       "      <td>1</td>\n",
       "      <td>-0.051931</td>\n",
       "      <td>27133.586522</td>\n",
       "      <td>21855.917304</td>\n",
       "      <td>6</td>\n",
       "      <td>1</td>\n",
       "      <td>23</td>\n",
       "    </tr>\n",
       "    <tr>\n",
       "      <th>4</th>\n",
       "      <td>88703</td>\n",
       "      <td>2519</td>\n",
       "      <td>2023-01-01 00:51:00</td>\n",
       "      <td>93539.79</td>\n",
       "      <td>7</td>\n",
       "      <td>5597</td>\n",
       "      <td>0</td>\n",
       "      <td>4</td>\n",
       "      <td>0</td>\n",
       "      <td>0</td>\n",
       "      <td>6</td>\n",
       "      <td>1</td>\n",
       "      <td>1</td>\n",
       "      <td>0.770603</td>\n",
       "      <td>90759.971026</td>\n",
       "      <td>38881.607980</td>\n",
       "      <td>6</td>\n",
       "      <td>2</td>\n",
       "      <td>39</td>\n",
       "    </tr>\n",
       "  </tbody>\n",
       "</table>\n",
       "</div>"
      ],
      "text/plain": [
       "   transaction_id  customer_id           timestamp    amount  \\\n",
       "0          159943         4575 2023-01-01 00:10:00  35747.94   \n",
       "1             887           25 2023-01-01 00:10:00  41011.80   \n",
       "2            2381           68 2023-01-01 00:21:00  97614.54   \n",
       "3          121485         3455 2023-01-01 00:36:00  58350.27   \n",
       "4           88703         2519 2023-01-01 00:51:00  93539.79   \n",
       "\n",
       "   merchant_category  merchant_id  device_id  location  is_fraud  hour_of_day  \\\n",
       "0                  7         7906          5         2         0            0   \n",
       "1                  7         3162          4         0         1            0   \n",
       "2                  2         8815          2         5         0            0   \n",
       "3                  5         8060          0         3         0            0   \n",
       "4                  7         5597          0         4         0            0   \n",
       "\n",
       "   day_of_week  is_night  is_weekend  amount_scaled  avg_amount_per_user  \\\n",
       "0            6         1           1      -0.580246         59793.605200   \n",
       "1            6         1           1      -0.457207         30864.253333   \n",
       "2            6         1           1       0.865847         56124.793939   \n",
       "3            6         1           1      -0.051931         27133.586522   \n",
       "4            6         1           1       0.770603         90759.971026   \n",
       "\n",
       "   std_amount_per_user  unique_devices_per_user  unique_locations_per_user  \\\n",
       "0         25932.929281                        6                          4   \n",
       "1         24340.600055                        6                          2   \n",
       "2         23407.726005                        6                          3   \n",
       "3         21855.917304                        6                          1   \n",
       "4         38881.607980                        6                          2   \n",
       "\n",
       "   total_txns  \n",
       "0          50  \n",
       "1          42  \n",
       "2          33  \n",
       "3          23  \n",
       "4          39  "
      ]
     },
     "execution_count": 4,
     "metadata": {},
     "output_type": "execute_result"
    }
   ],
   "source": [
    "# Step 3: Merge aggregates back to transactions\n",
    "\n",
    "#We join these customer profiles back into each transaction to enrich it.\n",
    "\n",
    "df = df.merge(customer_agg, on=\"customer_id\", how=\"left\")\n",
    "df.head()\n",
    "\n",
    "\n"
   ]
  },
  {
   "cell_type": "code",
   "execution_count": 5,
   "id": "76dffb48",
   "metadata": {},
   "outputs": [
    {
     "data": {
      "text/plain": [
       "Index(['transaction_id', 'customer_id', 'timestamp', 'amount',\n",
       "       'merchant_category', 'merchant_id', 'device_id', 'location', 'is_fraud',\n",
       "       'hour_of_day', 'day_of_week', 'is_night', 'is_weekend', 'amount_scaled',\n",
       "       'avg_amount_per_user', 'std_amount_per_user', 'unique_devices_per_user',\n",
       "       'unique_locations_per_user', 'total_txns'],\n",
       "      dtype='object')"
      ]
     },
     "execution_count": 5,
     "metadata": {},
     "output_type": "execute_result"
    }
   ],
   "source": [
    "df.columns"
   ]
  },
  {
   "cell_type": "code",
   "execution_count": 6,
   "id": "b4ce1421",
   "metadata": {},
   "outputs": [],
   "source": [
    "# Ratio of current amount to user's average\n",
    "df[\"amount_to_avg_ratio\"] = df[\"amount\"] / (df[\"avg_amount_per_user\"] + 1e-6)\n",
    "\n",
    "# Flag if amount is far outside normal range\n",
    "df[\"is_high_deviation\"] = (abs(df[\"amount\"] - df[\"avg_amount_per_user\"]) > 2 * df[\"std_amount_per_user\"]).astype(int)\n"
   ]
  },
  {
   "cell_type": "code",
   "execution_count": 7,
   "id": "4d17510a",
   "metadata": {},
   "outputs": [
    {
     "name": "stderr",
     "output_type": "stream",
     "text": [
      "C:\\Users\\AbiolaLawani\\AppData\\Local\\Temp\\ipykernel_12760\\74700892.py:13: DeprecationWarning: DataFrameGroupBy.apply operated on the grouping columns. This behavior is deprecated, and in a future version of pandas the grouping columns will be excluded from the operation. Either pass `include_groups=False` to exclude the groupings or explicitly select the grouping columns after groupby to silence this warning.\n",
      "  df = df.groupby(\"customer_id\", group_keys=False).apply(rolling_counts)\n"
     ]
    }
   ],
   "source": [
    "df = df.sort_values([\"customer_id\", \"timestamp\"])\n",
    "\n",
    "def rolling_counts(group):\n",
    "    group = group.sort_values(\"timestamp\")\n",
    "    group[\"txns_last_7d\"] = (\n",
    "        group.rolling(\"7D\", on=\"timestamp\").count()[\"customer_id\"] - 1\n",
    "    )\n",
    "    group[\"txns_last_30d\"] = (\n",
    "        group.rolling(\"30D\", on=\"timestamp\").count()[\"customer_id\"] - 1\n",
    "    )\n",
    "    return group\n",
    "\n",
    "df = df.groupby(\"customer_id\", group_keys=False).apply(rolling_counts)\n",
    "\n"
   ]
  },
  {
   "cell_type": "code",
   "execution_count": 8,
   "id": "7aeef313",
   "metadata": {},
   "outputs": [],
   "source": [
    "feature_cols = [\n",
    "    \"amount\", \"amount_scaled\", \"merchant_category\", \"merchant_id\",\n",
    "    \"device_id\", \"location\", \"hour_of_day\", \"day_of_week\", \"is_night\", \"is_weekend\",\n",
    "    \"avg_amount_per_user\", \"std_amount_per_user\", \"unique_devices_per_user\",\n",
    "    \"unique_locations_per_user\", \"amount_to_avg_ratio\", \"is_high_deviation\",\n",
    "    \"txns_last_7d\", \"txns_last_30d\", \"is_new_device\", \"is_new_location\"\n",
    "]\n",
    "\n",
    "target_col = \"is_fraud\"\n"
   ]
  },
  {
   "cell_type": "code",
   "execution_count": 9,
   "id": "2be59a76",
   "metadata": {},
   "outputs": [
    {
     "ename": "KeyError",
     "evalue": "\"['is_new_device', 'is_new_location'] not in index\"",
     "output_type": "error",
     "traceback": [
      "\u001b[1;31m---------------------------------------------------------------------------\u001b[0m",
      "\u001b[1;31mKeyError\u001b[0m                                  Traceback (most recent call last)",
      "Cell \u001b[1;32mIn[9], line 1\u001b[0m\n\u001b[1;32m----> 1\u001b[0m \u001b[43mdf\u001b[49m\u001b[43m[\u001b[49m\u001b[43mfeature_cols\u001b[49m\u001b[43m \u001b[49m\u001b[38;5;241;43m+\u001b[39;49m\u001b[43m \u001b[49m\u001b[43m[\u001b[49m\u001b[43mtarget_col\u001b[49m\u001b[43m]\u001b[49m\u001b[43m]\u001b[49m\u001b[38;5;241m.\u001b[39mto_csv(\u001b[38;5;124m\"\u001b[39m\u001b[38;5;124m../artifacts/feature_engineered_transactions.csv\u001b[39m\u001b[38;5;124m\"\u001b[39m, index\u001b[38;5;241m=\u001b[39m\u001b[38;5;28;01mFalse\u001b[39;00m)\n\u001b[0;32m      2\u001b[0m \u001b[38;5;28mprint\u001b[39m(\u001b[38;5;124m\"\u001b[39m\u001b[38;5;124m✅ Feature engineering complete! Saved as feature_engineered_transactions.csv\u001b[39m\u001b[38;5;124m\"\u001b[39m)\n",
      "File \u001b[1;32mc:\\Users\\AbiolaLawani\\miniconda3\\envs\\mlops\\lib\\site-packages\\pandas\\core\\frame.py:4108\u001b[0m, in \u001b[0;36mDataFrame.__getitem__\u001b[1;34m(self, key)\u001b[0m\n\u001b[0;32m   4106\u001b[0m     \u001b[38;5;28;01mif\u001b[39;00m is_iterator(key):\n\u001b[0;32m   4107\u001b[0m         key \u001b[38;5;241m=\u001b[39m \u001b[38;5;28mlist\u001b[39m(key)\n\u001b[1;32m-> 4108\u001b[0m     indexer \u001b[38;5;241m=\u001b[39m \u001b[38;5;28;43mself\u001b[39;49m\u001b[38;5;241;43m.\u001b[39;49m\u001b[43mcolumns\u001b[49m\u001b[38;5;241;43m.\u001b[39;49m\u001b[43m_get_indexer_strict\u001b[49m\u001b[43m(\u001b[49m\u001b[43mkey\u001b[49m\u001b[43m,\u001b[49m\u001b[43m \u001b[49m\u001b[38;5;124;43m\"\u001b[39;49m\u001b[38;5;124;43mcolumns\u001b[39;49m\u001b[38;5;124;43m\"\u001b[39;49m\u001b[43m)\u001b[49m[\u001b[38;5;241m1\u001b[39m]\n\u001b[0;32m   4110\u001b[0m \u001b[38;5;66;03m# take() does not accept boolean indexers\u001b[39;00m\n\u001b[0;32m   4111\u001b[0m \u001b[38;5;28;01mif\u001b[39;00m \u001b[38;5;28mgetattr\u001b[39m(indexer, \u001b[38;5;124m\"\u001b[39m\u001b[38;5;124mdtype\u001b[39m\u001b[38;5;124m\"\u001b[39m, \u001b[38;5;28;01mNone\u001b[39;00m) \u001b[38;5;241m==\u001b[39m \u001b[38;5;28mbool\u001b[39m:\n",
      "File \u001b[1;32mc:\\Users\\AbiolaLawani\\miniconda3\\envs\\mlops\\lib\\site-packages\\pandas\\core\\indexes\\base.py:6200\u001b[0m, in \u001b[0;36mIndex._get_indexer_strict\u001b[1;34m(self, key, axis_name)\u001b[0m\n\u001b[0;32m   6197\u001b[0m \u001b[38;5;28;01melse\u001b[39;00m:\n\u001b[0;32m   6198\u001b[0m     keyarr, indexer, new_indexer \u001b[38;5;241m=\u001b[39m \u001b[38;5;28mself\u001b[39m\u001b[38;5;241m.\u001b[39m_reindex_non_unique(keyarr)\n\u001b[1;32m-> 6200\u001b[0m \u001b[38;5;28;43mself\u001b[39;49m\u001b[38;5;241;43m.\u001b[39;49m\u001b[43m_raise_if_missing\u001b[49m\u001b[43m(\u001b[49m\u001b[43mkeyarr\u001b[49m\u001b[43m,\u001b[49m\u001b[43m \u001b[49m\u001b[43mindexer\u001b[49m\u001b[43m,\u001b[49m\u001b[43m \u001b[49m\u001b[43maxis_name\u001b[49m\u001b[43m)\u001b[49m\n\u001b[0;32m   6202\u001b[0m keyarr \u001b[38;5;241m=\u001b[39m \u001b[38;5;28mself\u001b[39m\u001b[38;5;241m.\u001b[39mtake(indexer)\n\u001b[0;32m   6203\u001b[0m \u001b[38;5;28;01mif\u001b[39;00m \u001b[38;5;28misinstance\u001b[39m(key, Index):\n\u001b[0;32m   6204\u001b[0m     \u001b[38;5;66;03m# GH 42790 - Preserve name from an Index\u001b[39;00m\n",
      "File \u001b[1;32mc:\\Users\\AbiolaLawani\\miniconda3\\envs\\mlops\\lib\\site-packages\\pandas\\core\\indexes\\base.py:6252\u001b[0m, in \u001b[0;36mIndex._raise_if_missing\u001b[1;34m(self, key, indexer, axis_name)\u001b[0m\n\u001b[0;32m   6249\u001b[0m     \u001b[38;5;28;01mraise\u001b[39;00m \u001b[38;5;167;01mKeyError\u001b[39;00m(\u001b[38;5;124mf\u001b[39m\u001b[38;5;124m\"\u001b[39m\u001b[38;5;124mNone of [\u001b[39m\u001b[38;5;132;01m{\u001b[39;00mkey\u001b[38;5;132;01m}\u001b[39;00m\u001b[38;5;124m] are in the [\u001b[39m\u001b[38;5;132;01m{\u001b[39;00maxis_name\u001b[38;5;132;01m}\u001b[39;00m\u001b[38;5;124m]\u001b[39m\u001b[38;5;124m\"\u001b[39m)\n\u001b[0;32m   6251\u001b[0m not_found \u001b[38;5;241m=\u001b[39m \u001b[38;5;28mlist\u001b[39m(ensure_index(key)[missing_mask\u001b[38;5;241m.\u001b[39mnonzero()[\u001b[38;5;241m0\u001b[39m]]\u001b[38;5;241m.\u001b[39munique())\n\u001b[1;32m-> 6252\u001b[0m \u001b[38;5;28;01mraise\u001b[39;00m \u001b[38;5;167;01mKeyError\u001b[39;00m(\u001b[38;5;124mf\u001b[39m\u001b[38;5;124m\"\u001b[39m\u001b[38;5;132;01m{\u001b[39;00mnot_found\u001b[38;5;132;01m}\u001b[39;00m\u001b[38;5;124m not in index\u001b[39m\u001b[38;5;124m\"\u001b[39m)\n",
      "\u001b[1;31mKeyError\u001b[0m: \"['is_new_device', 'is_new_location'] not in index\""
     ]
    }
   ],
   "source": [
    "df[feature_cols + [target_col]].to_csv(\"../artifacts/feature_engineered_transactions.csv\", index=False)\n",
    "print(\"✅ Feature engineering complete! Saved as feature_engineered_transactions.csv\")\n"
   ]
  },
  {
   "cell_type": "code",
   "execution_count": 10,
   "id": "e96d9891",
   "metadata": {},
   "outputs": [
    {
     "data": {
      "text/plain": [
       "{'is_new_device', 'is_new_location'}"
      ]
     },
     "execution_count": 10,
     "metadata": {},
     "output_type": "execute_result"
    }
   ],
   "source": [
    "set(feature_cols) - set(df.columns)\n"
   ]
  },
  {
   "cell_type": "code",
   "execution_count": null,
   "id": "eff5e438",
   "metadata": {},
   "outputs": [],
   "source": []
  }
 ],
 "metadata": {
  "kernelspec": {
   "display_name": "mlops",
   "language": "python",
   "name": "python3"
  },
  "language_info": {
   "codemirror_mode": {
    "name": "ipython",
    "version": 3
   },
   "file_extension": ".py",
   "mimetype": "text/x-python",
   "name": "python",
   "nbconvert_exporter": "python",
   "pygments_lexer": "ipython3",
   "version": "3.10.16"
  }
 },
 "nbformat": 4,
 "nbformat_minor": 5
}
